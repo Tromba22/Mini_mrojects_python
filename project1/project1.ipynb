{
 "cells": [
  {
   "cell_type": "markdown",
   "metadata": {},
   "source": [
    "\n",
    "# Project: Energy consumption in three decades\n",
    "\n",
    "## Table of Contents\n",
    "<ul>\n",
    "<li><a href=\"#intro\">Introduction</a></li>\n",
    "<li><a href=\"#wrangling\">Data Wrangling</a></li>\n",
    "<li><a href=\"#eda\">Exploratory Data Analysis</a></li>\n",
    "<li><a href=\"#conclusion\">Conclusion</a></li>\n",
    "</ul>"
   ]
  },
  {
   "cell_type": "markdown",
   "metadata": {},
   "source": [
    "<a id='intro'></a>\n",
    "## Introduction\n",
    "\n",
    "For our analysis, we have chosen a dataset from [Gapminder](https://www.gapminder.org/data/) about energy consumption. We have downloaded a raw data of all the countries on their **consumption of oil, coal, nuclear and hydro consumption**. We have included in our dataset the average **income** of each person in a country, the **CO2 emission** and the **democratic scrore**. \n",
    "Data uploaded is totally in a raw, we will choose from each dateset three years , which represents the end of each decade to construct three datasets. In our analysis, we will try to answer the following questions: Which countries make mmore emission, the richest, the democtratic, the richer? Which kind of energy consumption leads to less carbon emission? From one decade to another, do CO2 emission decrease or increase?"
   ]
  },
  {
   "cell_type": "code",
   "execution_count": 55,
   "metadata": {},
   "outputs": [],
   "source": [
    "# package initialization\n",
    "import pandas as pd\n",
    "import re\n",
    "import numpy as np\n",
    "import matplotlib.pyplot as plt\n",
    "%matplotlib inline"
   ]
  },
  {
   "cell_type": "code",
   "execution_count": 56,
   "metadata": {},
   "outputs": [],
   "source": [
    "# import th raw data and making them in a dictionary\n",
    "oil = pd.read_csv(\"oil.csv\")\n",
    "emission = pd.read_csv(\"co2_emissions.csv\")\n",
    "democracy = pd.read_csv(\"democracy_score.csv\")\n",
    "electricity = pd.read_csv(\"electricity.csv\")\n",
    "energy = pd.read_csv(\"energy_total.csv\")\n",
    "hydro = pd.read_csv(\"hydro.csv\")\n",
    "income = pd.read_csv(\"income.csv\")\n",
    "nuclear = pd.read_csv(\"nuclear_power.csv\")\n",
    "data = {\"oil\" : oil, \"emission\" : emission, \"democracy\" : democracy, \"electricity\" : electricity, \"energy\" : energy, \"hydro\" : hydro,\n",
    "\"income\" : income, \"nuclear\" : nuclear}"
   ]
  },
  {
   "cell_type": "code",
   "execution_count": 57,
   "metadata": {},
   "outputs": [],
   "source": [
    "# we initilize a dataframe using the largest country list\n",
    "df_89 = pd.DataFrame(data[\"income\"].country)\n",
    "df_99 = pd.DataFrame(data[\"income\"].country)\n",
    "df_09 = pd.DataFrame(data[\"income\"].country)\n",
    "\n",
    "for key in data.keys():\n",
    "    df_89 = pd.merge(df_89, data[key][[\"country\",\"1989\"]], on = \"country\", how=\"inner\")\n",
    "    df_89 = df_89.rename(columns=lambda x: key if x in [\"1989_x\",\"1989_y\", \"1989\"] else x)\n",
    "    df_99 = pd.merge(df_99, data[key][[\"country\",\"1999\"]], on = \"country\", how=\"inner\")\n",
    "    df_99 = df_99.rename(columns=lambda x: key if x in [\"1999_x\",\"1999_y\", \"1999\"] else x)\n",
    "    df_09 = pd.merge(df_09, data[key][[\"country\",\"2009\"]], on = \"country\", how=\"inner\")\n",
    "    df_09 = df_09.rename(columns=lambda x: key if x in [\"2009_x\",\"2009_y\", \"2009\"] else x)\n"
   ]
  },
  {
   "cell_type": "code",
   "execution_count": 58,
   "metadata": {},
   "outputs": [
    {
     "data": {
      "text/html": [
       "<div>\n",
       "<style scoped>\n",
       "    .dataframe tbody tr th:only-of-type {\n",
       "        vertical-align: middle;\n",
       "    }\n",
       "\n",
       "    .dataframe tbody tr th {\n",
       "        vertical-align: top;\n",
       "    }\n",
       "\n",
       "    .dataframe thead th {\n",
       "        text-align: right;\n",
       "    }\n",
       "</style>\n",
       "<table border=\"1\" class=\"dataframe\">\n",
       "  <thead>\n",
       "    <tr style=\"text-align: right;\">\n",
       "      <th></th>\n",
       "      <th>country</th>\n",
       "      <th>oil</th>\n",
       "      <th>emission</th>\n",
       "      <th>democracy</th>\n",
       "      <th>electricity</th>\n",
       "      <th>energy</th>\n",
       "      <th>hydro</th>\n",
       "      <th>income</th>\n",
       "      <th>nuclear</th>\n",
       "    </tr>\n",
       "  </thead>\n",
       "  <tbody>\n",
       "    <tr>\n",
       "      <th>0</th>\n",
       "      <td>Argentina</td>\n",
       "      <td>24.3M</td>\n",
       "      <td>4.42</td>\n",
       "      <td>8</td>\n",
       "      <td>122B</td>\n",
       "      <td>80.8k</td>\n",
       "      <td>2.91M</td>\n",
       "      <td>21.5k</td>\n",
       "      <td>702k</td>\n",
       "    </tr>\n",
       "    <tr>\n",
       "      <th>1</th>\n",
       "      <td>Australia</td>\n",
       "      <td>42M</td>\n",
       "      <td>18.80</td>\n",
       "      <td>10</td>\n",
       "      <td>250B</td>\n",
       "      <td>311k</td>\n",
       "      <td>945k</td>\n",
       "      <td>44.6k</td>\n",
       "      <td>0</td>\n",
       "    </tr>\n",
       "    <tr>\n",
       "      <th>2</th>\n",
       "      <td>Austria</td>\n",
       "      <td>12.2M</td>\n",
       "      <td>8.10</td>\n",
       "      <td>10</td>\n",
       "      <td>69.1B</td>\n",
       "      <td>11.4k</td>\n",
       "      <td>3.52M</td>\n",
       "      <td>51k</td>\n",
       "      <td>0</td>\n",
       "    </tr>\n",
       "    <tr>\n",
       "      <th>3</th>\n",
       "      <td>Azerbaijan</td>\n",
       "      <td>3.31M</td>\n",
       "      <td>3.57</td>\n",
       "      <td>−7</td>\n",
       "      <td>18.9B</td>\n",
       "      <td>64.6k</td>\n",
       "      <td>199k</td>\n",
       "      <td>13.6k</td>\n",
       "      <td>0</td>\n",
       "    </tr>\n",
       "    <tr>\n",
       "      <th>4</th>\n",
       "      <td>Belgium</td>\n",
       "      <td>32M</td>\n",
       "      <td>9.93</td>\n",
       "      <td>8</td>\n",
       "      <td>91.2B</td>\n",
       "      <td>15.3k</td>\n",
       "      <td>28.2k</td>\n",
       "      <td>47.1k</td>\n",
       "      <td>4.06M</td>\n",
       "    </tr>\n",
       "  </tbody>\n",
       "</table>\n",
       "</div>"
      ],
      "text/plain": [
       "      country    oil  emission democracy electricity energy  hydro income  \\\n",
       "0   Argentina  24.3M      4.42         8        122B  80.8k  2.91M  21.5k   \n",
       "1   Australia    42M     18.80        10        250B   311k   945k  44.6k   \n",
       "2     Austria  12.2M      8.10        10       69.1B  11.4k  3.52M    51k   \n",
       "3  Azerbaijan  3.31M      3.57        −7       18.9B  64.6k   199k  13.6k   \n",
       "4     Belgium    32M      9.93         8       91.2B  15.3k  28.2k  47.1k   \n",
       "\n",
       "  nuclear  \n",
       "0    702k  \n",
       "1       0  \n",
       "2       0  \n",
       "3       0  \n",
       "4   4.06M  "
      ]
     },
     "execution_count": 58,
     "metadata": {},
     "output_type": "execute_result"
    }
   ],
   "source": [
    "df_09.head()"
   ]
  },
  {
   "cell_type": "code",
   "execution_count": 59,
   "metadata": {},
   "outputs": [
    {
     "data": {
      "text/html": [
       "<div>\n",
       "<style scoped>\n",
       "    .dataframe tbody tr th:only-of-type {\n",
       "        vertical-align: middle;\n",
       "    }\n",
       "\n",
       "    .dataframe tbody tr th {\n",
       "        vertical-align: top;\n",
       "    }\n",
       "\n",
       "    .dataframe thead th {\n",
       "        text-align: right;\n",
       "    }\n",
       "</style>\n",
       "<table border=\"1\" class=\"dataframe\">\n",
       "  <thead>\n",
       "    <tr style=\"text-align: right;\">\n",
       "      <th></th>\n",
       "      <th>country</th>\n",
       "      <th>oil</th>\n",
       "      <th>emission</th>\n",
       "      <th>democracy</th>\n",
       "      <th>electricity</th>\n",
       "      <th>energy</th>\n",
       "      <th>hydro</th>\n",
       "      <th>income</th>\n",
       "      <th>nuclear</th>\n",
       "    </tr>\n",
       "  </thead>\n",
       "  <tbody>\n",
       "    <tr>\n",
       "      <th>0</th>\n",
       "      <td>Argentina</td>\n",
       "      <td>20.1M</td>\n",
       "      <td>4.02</td>\n",
       "      <td>8</td>\n",
       "      <td>80.7B</td>\n",
       "      <td>80.1k</td>\n",
       "      <td>1.84M</td>\n",
       "      <td>19k</td>\n",
       "      <td>611k</td>\n",
       "    </tr>\n",
       "    <tr>\n",
       "      <th>1</th>\n",
       "      <td>Australia</td>\n",
       "      <td>38.8M</td>\n",
       "      <td>18.30</td>\n",
       "      <td>10</td>\n",
       "      <td>207B</td>\n",
       "      <td>214k</td>\n",
       "      <td>1.39M</td>\n",
       "      <td>37.2k</td>\n",
       "      <td>0</td>\n",
       "    </tr>\n",
       "    <tr>\n",
       "      <th>2</th>\n",
       "      <td>Austria</td>\n",
       "      <td>12.1M</td>\n",
       "      <td>8.17</td>\n",
       "      <td>10</td>\n",
       "      <td>60.4B</td>\n",
       "      <td>9720</td>\n",
       "      <td>3.5M</td>\n",
       "      <td>45.1k</td>\n",
       "      <td>0</td>\n",
       "    </tr>\n",
       "    <tr>\n",
       "      <th>3</th>\n",
       "      <td>Azerbaijan</td>\n",
       "      <td>5.73M</td>\n",
       "      <td>3.55</td>\n",
       "      <td>−7</td>\n",
       "      <td>18.2B</td>\n",
       "      <td>19k</td>\n",
       "      <td>130k</td>\n",
       "      <td>3630</td>\n",
       "      <td>0</td>\n",
       "    </tr>\n",
       "    <tr>\n",
       "      <th>4</th>\n",
       "      <td>Belgium</td>\n",
       "      <td>30.3M</td>\n",
       "      <td>12.20</td>\n",
       "      <td>10</td>\n",
       "      <td>84.5B</td>\n",
       "      <td>13.9k</td>\n",
       "      <td>29.3k</td>\n",
       "      <td>41.6k</td>\n",
       "      <td>4.21M</td>\n",
       "    </tr>\n",
       "  </tbody>\n",
       "</table>\n",
       "</div>"
      ],
      "text/plain": [
       "      country    oil  emission democracy electricity energy  hydro income  \\\n",
       "0   Argentina  20.1M      4.02         8       80.7B  80.1k  1.84M    19k   \n",
       "1   Australia  38.8M     18.30        10        207B   214k  1.39M  37.2k   \n",
       "2     Austria  12.1M      8.17        10       60.4B   9720   3.5M  45.1k   \n",
       "3  Azerbaijan  5.73M      3.55        −7       18.2B    19k   130k   3630   \n",
       "4     Belgium  30.3M     12.20        10       84.5B  13.9k  29.3k  41.6k   \n",
       "\n",
       "  nuclear  \n",
       "0    611k  \n",
       "1       0  \n",
       "2       0  \n",
       "3       0  \n",
       "4   4.21M  "
      ]
     },
     "execution_count": 59,
     "metadata": {},
     "output_type": "execute_result"
    }
   ],
   "source": [
    "df_99.head()"
   ]
  },
  {
   "cell_type": "code",
   "execution_count": 60,
   "metadata": {},
   "outputs": [
    {
     "data": {
      "text/html": [
       "<div>\n",
       "<style scoped>\n",
       "    .dataframe tbody tr th:only-of-type {\n",
       "        vertical-align: middle;\n",
       "    }\n",
       "\n",
       "    .dataframe tbody tr th {\n",
       "        vertical-align: top;\n",
       "    }\n",
       "\n",
       "    .dataframe thead th {\n",
       "        text-align: right;\n",
       "    }\n",
       "</style>\n",
       "<table border=\"1\" class=\"dataframe\">\n",
       "  <thead>\n",
       "    <tr style=\"text-align: right;\">\n",
       "      <th></th>\n",
       "      <th>country</th>\n",
       "      <th>oil</th>\n",
       "      <th>emission</th>\n",
       "      <th>democracy</th>\n",
       "      <th>electricity</th>\n",
       "      <th>energy</th>\n",
       "      <th>hydro</th>\n",
       "      <th>income</th>\n",
       "      <th>nuclear</th>\n",
       "    </tr>\n",
       "  </thead>\n",
       "  <tbody>\n",
       "    <tr>\n",
       "      <th>0</th>\n",
       "      <td>Argentina</td>\n",
       "      <td>20.9M</td>\n",
       "      <td>3.64</td>\n",
       "      <td>7</td>\n",
       "      <td>50.9B</td>\n",
       "      <td>47.2k</td>\n",
       "      <td>1.11M</td>\n",
       "      <td>14.3k</td>\n",
       "      <td>433k</td>\n",
       "    </tr>\n",
       "    <tr>\n",
       "      <th>1</th>\n",
       "      <td>Australia</td>\n",
       "      <td>32.7M</td>\n",
       "      <td>16.60</td>\n",
       "      <td>10</td>\n",
       "      <td>151B</td>\n",
       "      <td>145k</td>\n",
       "      <td>1.24M</td>\n",
       "      <td>31.1k</td>\n",
       "      <td>0</td>\n",
       "    </tr>\n",
       "    <tr>\n",
       "      <th>2</th>\n",
       "      <td>Austria</td>\n",
       "      <td>10.4M</td>\n",
       "      <td>6.99</td>\n",
       "      <td>10</td>\n",
       "      <td>50.2B</td>\n",
       "      <td>8620</td>\n",
       "      <td>3.03M</td>\n",
       "      <td>36.1k</td>\n",
       "      <td>0</td>\n",
       "    </tr>\n",
       "    <tr>\n",
       "      <th>3</th>\n",
       "      <td>Azerbaijan</td>\n",
       "      <td>8.14M</td>\n",
       "      <td>7.76</td>\n",
       "      <td>−4</td>\n",
       "      <td>23.3B</td>\n",
       "      <td>NaN</td>\n",
       "      <td>NaN</td>\n",
       "      <td>8710</td>\n",
       "      <td>NaN</td>\n",
       "    </tr>\n",
       "    <tr>\n",
       "      <th>4</th>\n",
       "      <td>Belgium</td>\n",
       "      <td>22.7M</td>\n",
       "      <td>10.70</td>\n",
       "      <td>10</td>\n",
       "      <td>67.5B</td>\n",
       "      <td>13k</td>\n",
       "      <td>26.2k</td>\n",
       "      <td>34.5k</td>\n",
       "      <td>3.54M</td>\n",
       "    </tr>\n",
       "  </tbody>\n",
       "</table>\n",
       "</div>"
      ],
      "text/plain": [
       "      country    oil  emission democracy electricity energy  hydro income  \\\n",
       "0   Argentina  20.9M      3.64         7       50.9B  47.2k  1.11M  14.3k   \n",
       "1   Australia  32.7M     16.60        10        151B   145k  1.24M  31.1k   \n",
       "2     Austria  10.4M      6.99        10       50.2B   8620  3.03M  36.1k   \n",
       "3  Azerbaijan  8.14M      7.76        −4       23.3B    NaN    NaN   8710   \n",
       "4     Belgium  22.7M     10.70        10       67.5B    13k  26.2k  34.5k   \n",
       "\n",
       "  nuclear  \n",
       "0    433k  \n",
       "1       0  \n",
       "2       0  \n",
       "3     NaN  \n",
       "4   3.54M  "
      ]
     },
     "execution_count": 60,
     "metadata": {},
     "output_type": "execute_result"
    }
   ],
   "source": [
    "df_89.head()"
   ]
  },
  {
   "cell_type": "code",
   "execution_count": 61,
   "metadata": {},
   "outputs": [
    {
     "data": {
      "text/plain": [
       "(67, 9)"
      ]
     },
     "execution_count": 61,
     "metadata": {},
     "output_type": "execute_result"
    }
   ],
   "source": [
    "df_89.shape"
   ]
  },
  {
   "cell_type": "code",
   "execution_count": 62,
   "metadata": {},
   "outputs": [
    {
     "data": {
      "text/plain": [
       "(67, 9)"
      ]
     },
     "execution_count": 62,
     "metadata": {},
     "output_type": "execute_result"
    }
   ],
   "source": [
    "df_99.shape"
   ]
  },
  {
   "cell_type": "code",
   "execution_count": 63,
   "metadata": {},
   "outputs": [
    {
     "data": {
      "text/plain": [
       "(67, 9)"
      ]
     },
     "execution_count": 63,
     "metadata": {},
     "output_type": "execute_result"
    }
   ],
   "source": [
    "df_09.shape"
   ]
  },
  {
   "cell_type": "markdown",
   "metadata": {},
   "source": [
    "<a id='wrangling'></a>\n",
    "## Data Wrangling\n",
    "\n",
    "We will first check if the data is of type integer or float, then we will check for null values and duplicates. \n",
    "\n",
    "### General Properties"
   ]
  },
  {
   "cell_type": "code",
   "execution_count": 64,
   "metadata": {},
   "outputs": [
    {
     "name": "stdout",
     "output_type": "stream",
     "text": [
      "<class 'pandas.core.frame.DataFrame'>\n",
      "Int64Index: 67 entries, 0 to 66\n",
      "Data columns (total 9 columns):\n",
      " #   Column       Non-Null Count  Dtype  \n",
      "---  ------       --------------  -----  \n",
      " 0   country      67 non-null     object \n",
      " 1   oil          67 non-null     object \n",
      " 2   emission     67 non-null     float64\n",
      " 3   democracy    67 non-null     object \n",
      " 4   electricity  67 non-null     object \n",
      " 5   energy       67 non-null     object \n",
      " 6   hydro        67 non-null     object \n",
      " 7   income       67 non-null     object \n",
      " 8   nuclear      67 non-null     object \n",
      "dtypes: float64(1), object(8)\n",
      "memory usage: 5.2+ KB\n"
     ]
    }
   ],
   "source": [
    "# inspect elements of the data\n",
    "df_09.info()"
   ]
  },
  {
   "cell_type": "code",
   "execution_count": 65,
   "metadata": {},
   "outputs": [
    {
     "name": "stdout",
     "output_type": "stream",
     "text": [
      "<class 'pandas.core.frame.DataFrame'>\n",
      "Int64Index: 67 entries, 0 to 66\n",
      "Data columns (total 9 columns):\n",
      " #   Column       Non-Null Count  Dtype  \n",
      "---  ------       --------------  -----  \n",
      " 0   country      67 non-null     object \n",
      " 1   oil          67 non-null     object \n",
      " 2   emission     67 non-null     float64\n",
      " 3   democracy    67 non-null     object \n",
      " 4   electricity  67 non-null     object \n",
      " 5   energy       67 non-null     object \n",
      " 6   hydro        67 non-null     object \n",
      " 7   income       67 non-null     object \n",
      " 8   nuclear      67 non-null     object \n",
      "dtypes: float64(1), object(8)\n",
      "memory usage: 5.2+ KB\n"
     ]
    }
   ],
   "source": [
    "df_99.info()"
   ]
  },
  {
   "cell_type": "code",
   "execution_count": 66,
   "metadata": {},
   "outputs": [
    {
     "name": "stdout",
     "output_type": "stream",
     "text": [
      "<class 'pandas.core.frame.DataFrame'>\n",
      "Int64Index: 67 entries, 0 to 66\n",
      "Data columns (total 9 columns):\n",
      " #   Column       Non-Null Count  Dtype  \n",
      "---  ------       --------------  -----  \n",
      " 0   country      67 non-null     object \n",
      " 1   oil          64 non-null     object \n",
      " 2   emission     67 non-null     float64\n",
      " 3   democracy    67 non-null     object \n",
      " 4   electricity  64 non-null     object \n",
      " 5   energy       54 non-null     object \n",
      " 6   hydro        54 non-null     object \n",
      " 7   income       67 non-null     object \n",
      " 8   nuclear      54 non-null     object \n",
      "dtypes: float64(1), object(8)\n",
      "memory usage: 5.2+ KB\n"
     ]
    }
   ],
   "source": [
    "df_89.info()"
   ]
  },
  {
   "cell_type": "markdown",
   "metadata": {},
   "source": [
    "> Conclusion about the data types: in all the data extracted, data must be in float or integer type except for the countries column. We have inspected that ***oil, democracy, electricity, energy, hydro, income and nuclear*** is extracted in string type. Therfore, we will build a function to transform the data into integer and float.\n",
    "We transform data to the following types:"
   ]
  },
  {
   "cell_type": "markdown",
   "metadata": {},
   "source": [
    "| Column | Type_of_data |\n",
    "|--------|---------------|\n",
    "|***country***| string |\n",
    "|***oil***|integer|\n",
    "|***emission***|float|\n",
    "|***democracy***|integer|\n",
    "|***electricity***|float|\n",
    "|***energy***|integer|\n",
    "|***hydro***| integer |\n",
    "|***income***| integer |\n",
    "|***nuclear***| integer |"
   ]
  },
  {
   "cell_type": "code",
   "execution_count": 67,
   "metadata": {},
   "outputs": [],
   "source": [
    "# Convert the data using the conv_data from sting to integer\n",
    "def conv_data(df):\n",
    "    for noun in df.columns:\n",
    "        if df[noun].dtypes == 'O':\n",
    "            if  ((df[noun].str.contains('[0-9]B$|[0-9]TR$')).all() == True) and (df[noun].dtypes == 'O'):\n",
    "                df[noun] = df[noun].dropna().replace({\"k\":\"*1e3\", \"M\":\"*1e6\", \"B\" : \"*1e9\", \"TR\" : \"*1e12\"}, regex=True).map(pd.eval).astype(float)\n",
    "                continue\n",
    "            elif  ((df[noun].str.contains('[0-9]M$|[0-9]B$|[0-9]k$')).any() == True):\n",
    "                df[noun] = df[noun].dropna().replace({\"k\":\"*1e3\", \"M\":\"*1e6\", \"B\" : \"*1e9\", \"TR\" : \"*1e12\"}, regex=True).map(pd.eval).astype(int)\n",
    "                continue\n",
    "            elif ((df[noun].str.contains('^−[0-9]')).any() == True) :\n",
    "                df[noun] = df[noun].dropna().replace(\"−\", \"-\", regex=True).map(pd.eval).astype(int)\n",
    "            else :\n",
    "                pass\n",
    "        else :\n",
    "            pass\n",
    "    return df"
   ]
  },
  {
   "cell_type": "code",
   "execution_count": 68,
   "metadata": {},
   "outputs": [],
   "source": [
    "df_89 = conv_data(df_89)\n",
    "df_09 = conv_data(df_09)\n",
    "df_99 = conv_data(df_99)"
   ]
  },
  {
   "cell_type": "code",
   "execution_count": 69,
   "metadata": {},
   "outputs": [
    {
     "name": "stdout",
     "output_type": "stream",
     "text": [
      "<class 'pandas.core.frame.DataFrame'>\n",
      "Int64Index: 67 entries, 0 to 66\n",
      "Data columns (total 9 columns):\n",
      " #   Column       Non-Null Count  Dtype  \n",
      "---  ------       --------------  -----  \n",
      " 0   country      67 non-null     object \n",
      " 1   oil          67 non-null     int32  \n",
      " 2   emission     67 non-null     float64\n",
      " 3   democracy    67 non-null     int32  \n",
      " 4   electricity  67 non-null     float64\n",
      " 5   energy       67 non-null     int32  \n",
      " 6   hydro        67 non-null     int32  \n",
      " 7   income       67 non-null     int32  \n",
      " 8   nuclear      67 non-null     int32  \n",
      "dtypes: float64(2), int32(6), object(1)\n",
      "memory usage: 3.7+ KB\n"
     ]
    }
   ],
   "source": [
    "# to check the new datasets\n",
    "df_09.info()"
   ]
  },
  {
   "cell_type": "code",
   "execution_count": 70,
   "metadata": {},
   "outputs": [
    {
     "data": {
      "text/html": [
       "<div>\n",
       "<style scoped>\n",
       "    .dataframe tbody tr th:only-of-type {\n",
       "        vertical-align: middle;\n",
       "    }\n",
       "\n",
       "    .dataframe tbody tr th {\n",
       "        vertical-align: top;\n",
       "    }\n",
       "\n",
       "    .dataframe thead th {\n",
       "        text-align: right;\n",
       "    }\n",
       "</style>\n",
       "<table border=\"1\" class=\"dataframe\">\n",
       "  <thead>\n",
       "    <tr style=\"text-align: right;\">\n",
       "      <th></th>\n",
       "      <th>oil</th>\n",
       "      <th>emission</th>\n",
       "      <th>democracy</th>\n",
       "      <th>electricity</th>\n",
       "      <th>energy</th>\n",
       "      <th>hydro</th>\n",
       "      <th>income</th>\n",
       "      <th>nuclear</th>\n",
       "    </tr>\n",
       "  </thead>\n",
       "  <tbody>\n",
       "    <tr>\n",
       "      <th>count</th>\n",
       "      <td>6.700000e+01</td>\n",
       "      <td>67.000000</td>\n",
       "      <td>67.000000</td>\n",
       "      <td>6.700000e+01</td>\n",
       "      <td>6.700000e+01</td>\n",
       "      <td>6.700000e+01</td>\n",
       "      <td>67.000000</td>\n",
       "      <td>6.700000e+01</td>\n",
       "    </tr>\n",
       "    <tr>\n",
       "      <th>mean</th>\n",
       "      <td>5.026521e+07</td>\n",
       "      <td>6.457373</td>\n",
       "      <td>5.985075</td>\n",
       "      <td>2.817578e+11</td>\n",
       "      <td>1.528369e+05</td>\n",
       "      <td>3.819148e+06</td>\n",
       "      <td>25187.014925</td>\n",
       "      <td>3.404403e+06</td>\n",
       "    </tr>\n",
       "    <tr>\n",
       "      <th>std</th>\n",
       "      <td>1.106378e+08</td>\n",
       "      <td>3.988242</td>\n",
       "      <td>5.945440</td>\n",
       "      <td>6.909473e+11</td>\n",
       "      <td>3.520549e+05</td>\n",
       "      <td>8.887707e+06</td>\n",
       "      <td>16226.549888</td>\n",
       "      <td>1.022812e+07</td>\n",
       "    </tr>\n",
       "    <tr>\n",
       "      <th>min</th>\n",
       "      <td>9.690000e+05</td>\n",
       "      <td>0.337000</td>\n",
       "      <td>-9.000000</td>\n",
       "      <td>5.570000e+09</td>\n",
       "      <td>7.820000e+02</td>\n",
       "      <td>2.580000e+02</td>\n",
       "      <td>2760.000000</td>\n",
       "      <td>0.000000e+00</td>\n",
       "    </tr>\n",
       "    <tr>\n",
       "      <th>25%</th>\n",
       "      <td>8.250000e+06</td>\n",
       "      <td>3.605000</td>\n",
       "      <td>5.000000</td>\n",
       "      <td>3.680000e+10</td>\n",
       "      <td>1.120000e+04</td>\n",
       "      <td>2.150000e+05</td>\n",
       "      <td>11550.000000</td>\n",
       "      <td>0.000000e+00</td>\n",
       "    </tr>\n",
       "    <tr>\n",
       "      <th>50%</th>\n",
       "      <td>1.420000e+07</td>\n",
       "      <td>6.120000</td>\n",
       "      <td>9.000000</td>\n",
       "      <td>7.870000e+10</td>\n",
       "      <td>4.090000e+04</td>\n",
       "      <td>7.930000e+05</td>\n",
       "      <td>21500.000000</td>\n",
       "      <td>0.000000e+00</td>\n",
       "    </tr>\n",
       "    <tr>\n",
       "      <th>75%</th>\n",
       "      <td>4.485000e+07</td>\n",
       "      <td>9.075000</td>\n",
       "      <td>10.000000</td>\n",
       "      <td>2.085000e+11</td>\n",
       "      <td>1.285000e+05</td>\n",
       "      <td>2.745000e+06</td>\n",
       "      <td>37450.000000</td>\n",
       "      <td>1.465000e+06</td>\n",
       "    </tr>\n",
       "    <tr>\n",
       "      <th>max</th>\n",
       "      <td>8.010000e+08</td>\n",
       "      <td>18.800000</td>\n",
       "      <td>10.000000</td>\n",
       "      <td>4.210000e+12</td>\n",
       "      <td>2.080000e+06</td>\n",
       "      <td>5.290000e+07</td>\n",
       "      <td>64400.000000</td>\n",
       "      <td>7.140000e+07</td>\n",
       "    </tr>\n",
       "  </tbody>\n",
       "</table>\n",
       "</div>"
      ],
      "text/plain": [
       "                oil   emission  democracy   electricity        energy  \\\n",
       "count  6.700000e+01  67.000000  67.000000  6.700000e+01  6.700000e+01   \n",
       "mean   5.026521e+07   6.457373   5.985075  2.817578e+11  1.528369e+05   \n",
       "std    1.106378e+08   3.988242   5.945440  6.909473e+11  3.520549e+05   \n",
       "min    9.690000e+05   0.337000  -9.000000  5.570000e+09  7.820000e+02   \n",
       "25%    8.250000e+06   3.605000   5.000000  3.680000e+10  1.120000e+04   \n",
       "50%    1.420000e+07   6.120000   9.000000  7.870000e+10  4.090000e+04   \n",
       "75%    4.485000e+07   9.075000  10.000000  2.085000e+11  1.285000e+05   \n",
       "max    8.010000e+08  18.800000  10.000000  4.210000e+12  2.080000e+06   \n",
       "\n",
       "              hydro        income       nuclear  \n",
       "count  6.700000e+01     67.000000  6.700000e+01  \n",
       "mean   3.819148e+06  25187.014925  3.404403e+06  \n",
       "std    8.887707e+06  16226.549888  1.022812e+07  \n",
       "min    2.580000e+02   2760.000000  0.000000e+00  \n",
       "25%    2.150000e+05  11550.000000  0.000000e+00  \n",
       "50%    7.930000e+05  21500.000000  0.000000e+00  \n",
       "75%    2.745000e+06  37450.000000  1.465000e+06  \n",
       "max    5.290000e+07  64400.000000  7.140000e+07  "
      ]
     },
     "execution_count": 70,
     "metadata": {},
     "output_type": "execute_result"
    }
   ],
   "source": [
    "df_09.describe()"
   ]
  },
  {
   "cell_type": "code",
   "execution_count": 71,
   "metadata": {},
   "outputs": [
    {
     "data": {
      "text/html": [
       "<div>\n",
       "<style scoped>\n",
       "    .dataframe tbody tr th:only-of-type {\n",
       "        vertical-align: middle;\n",
       "    }\n",
       "\n",
       "    .dataframe tbody tr th {\n",
       "        vertical-align: top;\n",
       "    }\n",
       "\n",
       "    .dataframe thead th {\n",
       "        text-align: right;\n",
       "    }\n",
       "</style>\n",
       "<table border=\"1\" class=\"dataframe\">\n",
       "  <thead>\n",
       "    <tr style=\"text-align: right;\">\n",
       "      <th></th>\n",
       "      <th>oil</th>\n",
       "      <th>emission</th>\n",
       "      <th>democracy</th>\n",
       "      <th>electricity</th>\n",
       "      <th>energy</th>\n",
       "      <th>hydro</th>\n",
       "      <th>income</th>\n",
       "      <th>nuclear</th>\n",
       "    </tr>\n",
       "  </thead>\n",
       "  <tbody>\n",
       "    <tr>\n",
       "      <th>count</th>\n",
       "      <td>6.700000e+01</td>\n",
       "      <td>67.000000</td>\n",
       "      <td>67.000000</td>\n",
       "      <td>6.700000e+01</td>\n",
       "      <td>6.700000e+01</td>\n",
       "      <td>6.700000e+01</td>\n",
       "      <td>67.000000</td>\n",
       "      <td>6.700000e+01</td>\n",
       "    </tr>\n",
       "    <tr>\n",
       "      <th>mean</th>\n",
       "      <td>4.740439e+07</td>\n",
       "      <td>6.452687</td>\n",
       "      <td>5.552239</td>\n",
       "      <td>2.088758e+11</td>\n",
       "      <td>1.226604e+05</td>\n",
       "      <td>2.996556e+06</td>\n",
       "      <td>20227.014925</td>\n",
       "      <td>3.196512e+06</td>\n",
       "    </tr>\n",
       "    <tr>\n",
       "      <th>std</th>\n",
       "      <td>1.130795e+08</td>\n",
       "      <td>4.377029</td>\n",
       "      <td>6.189638</td>\n",
       "      <td>5.223428e+11</td>\n",
       "      <td>2.658054e+05</td>\n",
       "      <td>6.027645e+06</td>\n",
       "      <td>15496.917584</td>\n",
       "      <td>9.742793e+06</td>\n",
       "    </tr>\n",
       "    <tr>\n",
       "      <th>min</th>\n",
       "      <td>9.340000e+05</td>\n",
       "      <td>0.200000</td>\n",
       "      <td>-9.000000</td>\n",
       "      <td>4.110000e+09</td>\n",
       "      <td>6.010000e+02</td>\n",
       "      <td>3.440000e+02</td>\n",
       "      <td>1880.000000</td>\n",
       "      <td>0.000000e+00</td>\n",
       "    </tr>\n",
       "    <tr>\n",
       "      <th>25%</th>\n",
       "      <td>7.340000e+06</td>\n",
       "      <td>3.175000</td>\n",
       "      <td>4.000000</td>\n",
       "      <td>2.565000e+10</td>\n",
       "      <td>9.625000e+03</td>\n",
       "      <td>1.375000e+05</td>\n",
       "      <td>7910.000000</td>\n",
       "      <td>0.000000e+00</td>\n",
       "    </tr>\n",
       "    <tr>\n",
       "      <th>50%</th>\n",
       "      <td>1.320000e+07</td>\n",
       "      <td>6.060000</td>\n",
       "      <td>8.000000</td>\n",
       "      <td>6.470000e+10</td>\n",
       "      <td>3.060000e+04</td>\n",
       "      <td>6.270000e+05</td>\n",
       "      <td>15000.000000</td>\n",
       "      <td>0.000000e+00</td>\n",
       "    </tr>\n",
       "    <tr>\n",
       "      <th>75%</th>\n",
       "      <td>3.950000e+07</td>\n",
       "      <td>8.710000</td>\n",
       "      <td>10.000000</td>\n",
       "      <td>1.635000e+11</td>\n",
       "      <td>1.290000e+05</td>\n",
       "      <td>2.395000e+06</td>\n",
       "      <td>34300.000000</td>\n",
       "      <td>1.180000e+06</td>\n",
       "    </tr>\n",
       "    <tr>\n",
       "      <th>max</th>\n",
       "      <td>8.700000e+08</td>\n",
       "      <td>20.900000</td>\n",
       "      <td>10.000000</td>\n",
       "      <td>3.940000e+12</td>\n",
       "      <td>1.670000e+06</td>\n",
       "      <td>2.970000e+07</td>\n",
       "      <td>57400.000000</td>\n",
       "      <td>6.640000e+07</td>\n",
       "    </tr>\n",
       "  </tbody>\n",
       "</table>\n",
       "</div>"
      ],
      "text/plain": [
       "                oil   emission  democracy   electricity        energy  \\\n",
       "count  6.700000e+01  67.000000  67.000000  6.700000e+01  6.700000e+01   \n",
       "mean   4.740439e+07   6.452687   5.552239  2.088758e+11  1.226604e+05   \n",
       "std    1.130795e+08   4.377029   6.189638  5.223428e+11  2.658054e+05   \n",
       "min    9.340000e+05   0.200000  -9.000000  4.110000e+09  6.010000e+02   \n",
       "25%    7.340000e+06   3.175000   4.000000  2.565000e+10  9.625000e+03   \n",
       "50%    1.320000e+07   6.060000   8.000000  6.470000e+10  3.060000e+04   \n",
       "75%    3.950000e+07   8.710000  10.000000  1.635000e+11  1.290000e+05   \n",
       "max    8.700000e+08  20.900000  10.000000  3.940000e+12  1.670000e+06   \n",
       "\n",
       "              hydro        income       nuclear  \n",
       "count  6.700000e+01     67.000000  6.700000e+01  \n",
       "mean   2.996556e+06  20227.014925  3.196512e+06  \n",
       "std    6.027645e+06  15496.917584  9.742793e+06  \n",
       "min    3.440000e+02   1880.000000  0.000000e+00  \n",
       "25%    1.375000e+05   7910.000000  0.000000e+00  \n",
       "50%    6.270000e+05  15000.000000  0.000000e+00  \n",
       "75%    2.395000e+06  34300.000000  1.180000e+06  \n",
       "max    2.970000e+07  57400.000000  6.640000e+07  "
      ]
     },
     "execution_count": 71,
     "metadata": {},
     "output_type": "execute_result"
    }
   ],
   "source": [
    "df_99.describe()"
   ]
  },
  {
   "cell_type": "code",
   "execution_count": 72,
   "metadata": {},
   "outputs": [
    {
     "data": {
      "text/html": [
       "<div>\n",
       "<style scoped>\n",
       "    .dataframe tbody tr th:only-of-type {\n",
       "        vertical-align: middle;\n",
       "    }\n",
       "\n",
       "    .dataframe tbody tr th {\n",
       "        vertical-align: top;\n",
       "    }\n",
       "\n",
       "    .dataframe thead th {\n",
       "        text-align: right;\n",
       "    }\n",
       "</style>\n",
       "<table border=\"1\" class=\"dataframe\">\n",
       "  <thead>\n",
       "    <tr style=\"text-align: right;\">\n",
       "      <th></th>\n",
       "      <th>oil</th>\n",
       "      <th>emission</th>\n",
       "      <th>democracy</th>\n",
       "      <th>electricity</th>\n",
       "      <th>energy</th>\n",
       "      <th>hydro</th>\n",
       "      <th>income</th>\n",
       "      <th>nuclear</th>\n",
       "    </tr>\n",
       "  </thead>\n",
       "  <tbody>\n",
       "    <tr>\n",
       "      <th>count</th>\n",
       "      <td>6.400000e+01</td>\n",
       "      <td>67.000000</td>\n",
       "      <td>67.000000</td>\n",
       "      <td>6.400000e+01</td>\n",
       "      <td>5.400000e+01</td>\n",
       "      <td>5.400000e+01</td>\n",
       "      <td>67.000000</td>\n",
       "      <td>5.400000e+01</td>\n",
       "    </tr>\n",
       "    <tr>\n",
       "      <th>mean</th>\n",
       "      <td>4.431359e+07</td>\n",
       "      <td>7.046000</td>\n",
       "      <td>3.059701</td>\n",
       "      <td>1.719648e+11</td>\n",
       "      <td>1.081483e+05</td>\n",
       "      <td>2.712291e+06</td>\n",
       "      <td>18092.686567</td>\n",
       "      <td>2.696159e+06</td>\n",
       "    </tr>\n",
       "    <tr>\n",
       "      <th>std</th>\n",
       "      <td>1.056291e+08</td>\n",
       "      <td>4.992937</td>\n",
       "      <td>6.914808</td>\n",
       "      <td>4.280847e+11</td>\n",
       "      <td>2.463897e+05</td>\n",
       "      <td>5.223637e+06</td>\n",
       "      <td>12508.868682</td>\n",
       "      <td>7.823402e+06</td>\n",
       "    </tr>\n",
       "    <tr>\n",
       "      <th>min</th>\n",
       "      <td>1.200000e+06</td>\n",
       "      <td>0.133000</td>\n",
       "      <td>-9.000000</td>\n",
       "      <td>2.860000e+09</td>\n",
       "      <td>3.910000e+02</td>\n",
       "      <td>2.580000e+02</td>\n",
       "      <td>1450.000000</td>\n",
       "      <td>0.000000e+00</td>\n",
       "    </tr>\n",
       "    <tr>\n",
       "      <th>25%</th>\n",
       "      <td>8.565000e+06</td>\n",
       "      <td>2.730000</td>\n",
       "      <td>-4.000000</td>\n",
       "      <td>2.375000e+10</td>\n",
       "      <td>1.097500e+04</td>\n",
       "      <td>2.257500e+05</td>\n",
       "      <td>8200.000000</td>\n",
       "      <td>0.000000e+00</td>\n",
       "    </tr>\n",
       "    <tr>\n",
       "      <th>50%</th>\n",
       "      <td>1.495000e+07</td>\n",
       "      <td>6.990000</td>\n",
       "      <td>6.000000</td>\n",
       "      <td>5.055000e+10</td>\n",
       "      <td>3.380000e+04</td>\n",
       "      <td>7.525000e+05</td>\n",
       "      <td>14400.000000</td>\n",
       "      <td>0.000000e+00</td>\n",
       "    </tr>\n",
       "    <tr>\n",
       "      <th>75%</th>\n",
       "      <td>3.620000e+07</td>\n",
       "      <td>9.960000</td>\n",
       "      <td>10.000000</td>\n",
       "      <td>1.435000e+11</td>\n",
       "      <td>1.145000e+05</td>\n",
       "      <td>2.240000e+06</td>\n",
       "      <td>27300.000000</td>\n",
       "      <td>1.160000e+06</td>\n",
       "    </tr>\n",
       "    <tr>\n",
       "      <th>max</th>\n",
       "      <td>7.860000e+08</td>\n",
       "      <td>19.800000</td>\n",
       "      <td>10.000000</td>\n",
       "      <td>3.160000e+12</td>\n",
       "      <td>1.620000e+06</td>\n",
       "      <td>2.510000e+07</td>\n",
       "      <td>54900.000000</td>\n",
       "      <td>4.830000e+07</td>\n",
       "    </tr>\n",
       "  </tbody>\n",
       "</table>\n",
       "</div>"
      ],
      "text/plain": [
       "                oil   emission  democracy   electricity        energy  \\\n",
       "count  6.400000e+01  67.000000  67.000000  6.400000e+01  5.400000e+01   \n",
       "mean   4.431359e+07   7.046000   3.059701  1.719648e+11  1.081483e+05   \n",
       "std    1.056291e+08   4.992937   6.914808  4.280847e+11  2.463897e+05   \n",
       "min    1.200000e+06   0.133000  -9.000000  2.860000e+09  3.910000e+02   \n",
       "25%    8.565000e+06   2.730000  -4.000000  2.375000e+10  1.097500e+04   \n",
       "50%    1.495000e+07   6.990000   6.000000  5.055000e+10  3.380000e+04   \n",
       "75%    3.620000e+07   9.960000  10.000000  1.435000e+11  1.145000e+05   \n",
       "max    7.860000e+08  19.800000  10.000000  3.160000e+12  1.620000e+06   \n",
       "\n",
       "              hydro        income       nuclear  \n",
       "count  5.400000e+01     67.000000  5.400000e+01  \n",
       "mean   2.712291e+06  18092.686567  2.696159e+06  \n",
       "std    5.223637e+06  12508.868682  7.823402e+06  \n",
       "min    2.580000e+02   1450.000000  0.000000e+00  \n",
       "25%    2.257500e+05   8200.000000  0.000000e+00  \n",
       "50%    7.525000e+05  14400.000000  0.000000e+00  \n",
       "75%    2.240000e+06  27300.000000  1.160000e+06  \n",
       "max    2.510000e+07  54900.000000  4.830000e+07  "
      ]
     },
     "execution_count": 72,
     "metadata": {},
     "output_type": "execute_result"
    }
   ],
   "source": [
    "df_89.describe()"
   ]
  },
  {
   "cell_type": "markdown",
   "metadata": {},
   "source": [
    "We pass to the null values check. For the purpose of keeping all the countries in our dataset, we replace na values with zero."
   ]
  },
  {
   "cell_type": "code",
   "execution_count": 73,
   "metadata": {},
   "outputs": [
    {
     "data": {
      "text/plain": [
       "country        0\n",
       "oil            0\n",
       "emission       0\n",
       "democracy      0\n",
       "electricity    0\n",
       "energy         0\n",
       "hydro          0\n",
       "income         0\n",
       "nuclear        0\n",
       "dtype: int64"
      ]
     },
     "execution_count": 73,
     "metadata": {},
     "output_type": "execute_result"
    }
   ],
   "source": [
    "# check na values data for the 2009 data\n",
    "df_09.isna().sum()"
   ]
  },
  {
   "cell_type": "code",
   "execution_count": 74,
   "metadata": {},
   "outputs": [
    {
     "data": {
      "text/plain": [
       "country        0\n",
       "oil            0\n",
       "emission       0\n",
       "democracy      0\n",
       "electricity    0\n",
       "energy         0\n",
       "hydro          0\n",
       "income         0\n",
       "nuclear        0\n",
       "dtype: int64"
      ]
     },
     "execution_count": 74,
     "metadata": {},
     "output_type": "execute_result"
    }
   ],
   "source": [
    "# check na values data for the 1999 data\n",
    "df_99.isna().sum()"
   ]
  },
  {
   "cell_type": "code",
   "execution_count": 75,
   "metadata": {},
   "outputs": [
    {
     "data": {
      "text/plain": [
       "country         0\n",
       "oil             3\n",
       "emission        0\n",
       "democracy       0\n",
       "electricity     3\n",
       "energy         13\n",
       "hydro          13\n",
       "income          0\n",
       "nuclear        13\n",
       "dtype: int64"
      ]
     },
     "execution_count": 75,
     "metadata": {},
     "output_type": "execute_result"
    }
   ],
   "source": [
    "# check na values data for the 1989 data\n",
    "df_89.isna().sum()"
   ]
  },
  {
   "cell_type": "markdown",
   "metadata": {},
   "source": [
    "We have detected only na values for the 1989 data. Then, we will replace them with the mean of each column. "
   ]
  },
  {
   "cell_type": "code",
   "execution_count": 76,
   "metadata": {},
   "outputs": [
    {
     "name": "stderr",
     "output_type": "stream",
     "text": [
      "C:\\Users\\Dell\\AppData\\Local\\Temp\\ipykernel_8984\\816556348.py:2: FutureWarning: Dropping of nuisance columns in DataFrame reductions (with 'numeric_only=None') is deprecated; in a future version this will raise TypeError.  Select only valid columns before calling the reduction.\n",
      "  df_89 = df_89.fillna(df_89.mean())\n"
     ]
    },
    {
     "data": {
      "text/plain": [
       "country        0\n",
       "oil            0\n",
       "emission       0\n",
       "democracy      0\n",
       "electricity    0\n",
       "energy         0\n",
       "hydro          0\n",
       "income         0\n",
       "nuclear        0\n",
       "dtype: int64"
      ]
     },
     "execution_count": 76,
     "metadata": {},
     "output_type": "execute_result"
    }
   ],
   "source": [
    "# replace with na zeros an check\n",
    "df_89 = df_89.fillna(df_89.mean())\n",
    "df_89.isna().sum()"
   ]
  },
  {
   "cell_type": "markdown",
   "metadata": {},
   "source": [
    "Income and dmocracy could not give enough information that we could use to analyze democraticy and income influence on the consumption of energy and the contribution for the pollution. Then we will create another column for democracy and Income. We creta four categories of classification for the countries according to the [Word Bank](https://blogs.worldbank.org/opendata/new-world-bank-country-classifications-income-level-2021-2022) classification, and we add 600 dollar to adjust it to inflation:"
   ]
  },
  {
   "cell_type": "markdown",
   "metadata": {},
   "source": [
    "|***Group***|***income***|\n",
    "|-----|------|\n",
    "| Low Income | less or equal then 1645\\$|\n",
    "|Low Middle Income| 1646 - 4695\\$|\n",
    "|Upper Middle Income|4646 - 13135\\$|\n",
    "|High Income| More or equal the 13136\\$|"
   ]
  },
  {
   "cell_type": "markdown",
   "metadata": {},
   "source": [
    "We create another indicator for the democracy using for the democracy when we classify it to four category according to the folowing table: \n",
    "\n",
    "|***Group***|***scroe***|\n",
    "|-----|------|\n",
    "| Dictatorship | (-5) or less|\n",
    "|Close to dictatorship| (-4) - 0|\n",
    "|In the path to democratic|0-4|\n",
    "|democracy| more or equalthan 5|"
   ]
  },
  {
   "cell_type": "code",
   "execution_count": 77,
   "metadata": {},
   "outputs": [],
   "source": [
    "# create a function for income and for democracy\n",
    "def to_income(df, col_name = \"\") :\n",
    "    # create a list of our conditions\n",
    "    conditions = [\n",
    "        (df[col_name] <= 1645),\n",
    "        (df[col_name] > 1645) & (df[col_name] <= 4695),\n",
    "        (df[col_name] > 4695) & (df[col_name] <= 13135),\n",
    "        (df[col_name] >= 13136)\n",
    "        ]\n",
    "\n",
    "    # create a list of the values we want to assign for each condition\n",
    "    values = ['Low Income', 'Low-Middle Income', 'Upper-Middle Income', 'High Income']\n",
    "\n",
    "    # create a new column and use np.select to assign values to it using our lists as arguments\n",
    "    df['income'] = np.select(conditions, values)\n",
    "    return df\n",
    "def to_demo(df, col_name = \"\") :\n",
    "    # create a list of our conditions\n",
    "    conditions = [\n",
    "        (df[col_name] <= -5),\n",
    "        (df[col_name] > -5) & (df[col_name] <= 0),\n",
    "        (df[col_name] > 0) & (df[col_name] <= 5),\n",
    "        (df[col_name] >= 6)\n",
    "        ]\n",
    "\n",
    "    # create a list of the values we want to assign for each condition\n",
    "    values = ['Dictatorship', 'Close to dictatorship', 'In the path to democracy', 'democratic']\n",
    "\n",
    "    # create a new column and use np.select to assign values to it using our lists as arguments\n",
    "    df['democracy'] = np.select(conditions, values)\n",
    "    return df"
   ]
  },
  {
   "cell_type": "markdown",
   "metadata": {},
   "source": [
    "<a id='eda'></a>\n",
    "## Exploratory Data Analysis\n",
    "\n",
    "### Research Question 1 : Democracy and developement of the countries"
   ]
  },
  {
   "cell_type": "markdown",
   "metadata": {},
   "source": [
    "In our first question we will try to see the evolution of the countries at the end of each decade. Do more countries improved toward more freedom and income? And how much countries within each category of income is democratic?"
   ]
  },
  {
   "cell_type": "code",
   "execution_count": 78,
   "metadata": {},
   "outputs": [],
   "source": [
    "# Transform the income and democracy column\n",
    "df_09 = to_demo(df_09, \"democracy\")\n",
    "df_89 = to_demo(df_89, \"democracy\")\n",
    "df_99 = to_demo(df_99, \"democracy\")\n",
    "df_09 = to_income(df_09, \"income\")\n",
    "df_89 = to_income(df_89, \"income\")\n",
    "df_99 = to_income(df_99, \"income\")"
   ]
  },
  {
   "cell_type": "markdown",
   "metadata": {},
   "source": [
    "After the transformation of the columns, we can go through the analysis of the data, and about the improvement of the gloab 67 countries included in our sample."
   ]
  },
  {
   "cell_type": "code",
   "execution_count": 79,
   "metadata": {},
   "outputs": [
    {
     "data": {
      "text/plain": [
       "([<matplotlib.patches.Wedge at 0x2673e7684c0>,\n",
       "  <matplotlib.patches.Wedge at 0x2673e7688b0>,\n",
       "  <matplotlib.patches.Wedge at 0x2673e768d90>,\n",
       "  <matplotlib.patches.Wedge at 0x2673e7d32b0>],\n",
       " [Text(-0.6297599246706812, 0.9018882620806072, 'Close to dictatorship'),\n",
       "  Text(-1.0493038301319972, -0.33009312636030586, 'Dictatorship'),\n",
       "  Text(-0.35460072500704176, -1.0412772569419158, 'In the path to democracy'),\n",
       "  Text(1.0996977041252858, -0.025786809449321227, 'democratic')])"
      ]
     },
     "execution_count": 79,
     "metadata": {},
     "output_type": "execute_result"
    },
    {
     "data": {
      "image/png": "[encoded data removed]",
      "text/plain": [
       "<Figure size 720x720 with 4 Axes>"
      ]
     },
     "metadata": {
      "needs_background": "light"
     },
     "output_type": "display_data"
    }
   ],
   "source": [
    "# make a plot of the evolution of the democratic countries\n",
    "fig, ((ax1, ax2), (ax3, ax4)) = plt.subplots(2, 2, figsize=(10,10))\n",
    "lu_09 = list(df_09.groupby([\"democracy\"])[\"country\"].groups.keys())\n",
    "lul_09 = list(df_09.groupby([\"democracy\"])[\"country\"].count())\n",
    "colors = [\"limegreen\", 'darkgreen', \"royalblue\", \"silver\"]\n",
    "#plt.subplot(1, 2, 1)\n",
    "ax1.axis(\"equal\")\n",
    "ax1.set_title(\"Democratic countries for 2009\")\n",
    "ax1.pie(lul_09, labels=lu_09, colors=colors, startangle=90)\n",
    "\n",
    "lu_99 = list(df_99.groupby([\"democracy\"])[\"country\"].groups.keys())\n",
    "lul_99 = list(df_99.groupby([\"democracy\"])[\"country\"].count())\n",
    "colors = [\"limegreen\", 'darkgreen', \"royalblue\", \"silver\"]\n",
    "#ax2.subplot(1, 2, 2)\n",
    "ax2.axis(\"equal\")\n",
    "ax2.set_title(\"Democratic countries for 1999\")\n",
    "ax2.pie(lul_99, labels=lu_99, colors=colors, startangle=90)\n",
    "\n",
    "lu_89 = list(df_89.groupby([\"democracy\"])[\"country\"].groups.keys())\n",
    "lul_89 = list(df_89.groupby([\"democracy\"])[\"country\"].count())\n",
    "colors = [\"limegreen\", 'darkgreen', \"royalblue\", \"silver\"]\n",
    "#plt.subplot(2, 1, 2)\n",
    "ax3.axis(\"equal\")\n",
    "ax3.set_title(\"Democratic countries for 1989\")\n",
    "ax3.pie(lul_89, labels=lu_89, colors=colors, startangle=90)"
   ]
  },
  {
   "cell_type": "markdown",
   "metadata": {},
   "source": [
    "The number of democratic countries have seen an evolution from the end of the 80s decade with 34 countries, to 48 countries in the end of 2009"
   ]
  },
  {
   "cell_type": "code",
   "execution_count": 26,
   "metadata": {},
   "outputs": [
    {
     "data": {
      "text/plain": [
       "([<matplotlib.patches.Wedge at 0x1d2fb043c40>,\n",
       "  <matplotlib.patches.Wedge at 0x1d2fb052250>,\n",
       "  <matplotlib.patches.Wedge at 0x1d2fb052730>,\n",
       "  <matplotlib.patches.Wedge at 0x1d2fb052c10>],\n",
       " [Text(-1.0756035858167015, -0.23038430106726923, 'High Income'),\n",
       "  Text(0.5867942214636925, -0.930415252270092, 'Low Income'),\n",
       "  Text(0.9439155556430987, -0.5648215858259849, 'Low-Middle Income'),\n",
       "  Text(0.8554012568374544, 0.6915841885127967, 'Upper-Middle Income')])"
      ]
     },
     "execution_count": 26,
     "metadata": {},
     "output_type": "execute_result"
    },
    {
     "data": {
      "image/png": "[encoded data removed]",
      "text/plain": [
       "<Figure size 720x720 with 4 Axes>"
      ]
     },
     "metadata": {
      "needs_background": "light"
     },
     "output_type": "display_data"
    }
   ],
   "source": [
    "# make a plot of the evolution of the countries by income\n",
    "fig, ((ax1, ax2), (ax3, ax4)) = plt.subplots(2, 2, figsize=(10,10))\n",
    "lu_09 = list(df_09.groupby([\"income\"])[\"country\"].groups.keys())\n",
    "lul_09 = list(df_09.groupby([\"income\"])[\"country\"].count())\n",
    "colors = [\"limegreen\", 'darkgreen', \"royalblue\", \"silver\"]\n",
    "#plt.subplot(1, 2, 1)\n",
    "ax1.axis(\"equal\")\n",
    "ax1.set_title(\"Countries by Income for 2009\")\n",
    "ax1.pie(lul_09, labels=lu_09, colors=colors, startangle=90)\n",
    "\n",
    "lu_99 = list(df_99.groupby([\"income\"])[\"country\"].groups.keys())\n",
    "lul_99 = list(df_99.groupby([\"income\"])[\"country\"].count())\n",
    "colors = [\"limegreen\", 'darkgreen', \"royalblue\", \"silver\"]\n",
    "#ax2.subplot(1, 2, 2)\n",
    "ax2.axis(\"equal\")\n",
    "ax2.set_title(\" Countries by income for 1999\")\n",
    "ax2.pie(lul_99, labels=lu_99, colors=colors, startangle=90)\n",
    "\n",
    "lu_89 = list(df_89.groupby([\"income\"])[\"country\"].groups.keys())\n",
    "lul_89 = list(df_89.groupby([\"income\"])[\"country\"].count())\n",
    "colors = [\"limegreen\", 'darkgreen', \"royalblue\", \"silver\"]\n",
    "#plt.subplot(2, 1, 2)\n",
    "ax3.axis(\"equal\")\n",
    "ax3.set_title(\"Countries by Income for 1989\")\n",
    "ax3.pie(lul_89, labels=lu_89, colors=colors, startangle=90)"
   ]
  },
  {
   "cell_type": "markdown",
   "metadata": {},
   "source": [
    "The number of countries with high income have jumped in twenty years from 38 in the end of the 80s decade to 48 in the edge of the first decade for the 21st century. The number of low income countries in our data of 67 countries have vanished in the last decate of the 20th century."
   ]
  },
  {
   "cell_type": "code",
   "execution_count": 80,
   "metadata": {},
   "outputs": [
    {
     "data": {
      "text/plain": [
       "<AxesSubplot:title={'center':'1989 democracy and income'}, xlabel='democracy'>"
      ]
     },
     "execution_count": 80,
     "metadata": {},
     "output_type": "execute_result"
    },
    {
     "data": {
      "image/png": "[encoded data removed]",
      "text/plain": [
       "<Figure size 432x288 with 1 Axes>"
      ]
     },
     "metadata": {
      "needs_background": "light"
     },
     "output_type": "display_data"
    }
   ],
   "source": [
    "# plot the number of countries according to income and democracy in 1989\n",
    "pd.crosstab(df_89['democracy'],df_89['income']).plot.bar(title = \"1989 democracy and income\")"
   ]
  },
  {
   "cell_type": "code",
   "execution_count": 81,
   "metadata": {},
   "outputs": [
    {
     "data": {
      "text/plain": [
       "<AxesSubplot:title={'center':'1999 democracy and income'}, xlabel='democracy'>"
      ]
     },
     "execution_count": 81,
     "metadata": {},
     "output_type": "execute_result"
    },
    {
     "data": {
      "image/png": "[encoded data removed]",
      "text/plain": [
       "<Figure size 432x288 with 1 Axes>"
      ]
     },
     "metadata": {
      "needs_background": "light"
     },
     "output_type": "display_data"
    }
   ],
   "source": [
    "# plot the number of countries according to income and democracy in 1999\n",
    "from matplotlib.pyplot import title\n",
    "pd.crosstab(df_99['democracy'],df_99['income']).plot.bar(title = \"1999 democracy and income\")"
   ]
  },
  {
   "cell_type": "code",
   "execution_count": 82,
   "metadata": {},
   "outputs": [
    {
     "data": {
      "text/plain": [
       "<AxesSubplot:title={'center':'2009 democracy and income'}, xlabel='democracy'>"
      ]
     },
     "execution_count": 82,
     "metadata": {},
     "output_type": "execute_result"
    },
    {
     "data": {
      "image/png": "[encoded data removed]",
      "text/plain": [
       "<Figure size 432x288 with 1 Axes>"
      ]
     },
     "metadata": {
      "needs_background": "light"
     },
     "output_type": "display_data"
    }
   ],
   "source": [
    "# plot the number of countries according to income and democracy in 2009\n",
    "pd.crosstab(df_09['democracy'],df_09['income']).plot.bar(title='2009 democracy and income')"
   ]
  },
  {
   "cell_type": "markdown",
   "metadata": {},
   "source": [
    "The number of democratic countries with high income have raised massively in the last two decades. It could explain that countries whcih emerged to democracy have made more favorable economy for higher income."
   ]
  },
  {
   "cell_type": "code",
   "execution_count": 83,
   "metadata": {},
   "outputs": [
    {
     "data": {
      "text/html": [
       "<div>\n",
       "<style scoped>\n",
       "    .dataframe tbody tr th:only-of-type {\n",
       "        vertical-align: middle;\n",
       "    }\n",
       "\n",
       "    .dataframe tbody tr th {\n",
       "        vertical-align: top;\n",
       "    }\n",
       "\n",
       "    .dataframe thead th {\n",
       "        text-align: right;\n",
       "    }\n",
       "</style>\n",
       "<table border=\"1\" class=\"dataframe\">\n",
       "  <thead>\n",
       "    <tr style=\"text-align: right;\">\n",
       "      <th>income</th>\n",
       "      <th>High Income</th>\n",
       "      <th>Low-Middle Income</th>\n",
       "      <th>Upper-Middle Income</th>\n",
       "    </tr>\n",
       "    <tr>\n",
       "      <th>democracy</th>\n",
       "      <th></th>\n",
       "      <th></th>\n",
       "      <th></th>\n",
       "    </tr>\n",
       "  </thead>\n",
       "  <tbody>\n",
       "    <tr>\n",
       "      <th>Close to dictatorship</th>\n",
       "      <td>1</td>\n",
       "      <td>0</td>\n",
       "      <td>1</td>\n",
       "    </tr>\n",
       "    <tr>\n",
       "      <th>Dictatorship</th>\n",
       "      <td>4</td>\n",
       "      <td>0</td>\n",
       "      <td>5</td>\n",
       "    </tr>\n",
       "    <tr>\n",
       "      <th>In the path to democracy</th>\n",
       "      <td>2</td>\n",
       "      <td>2</td>\n",
       "      <td>3</td>\n",
       "    </tr>\n",
       "    <tr>\n",
       "      <th>democratic</th>\n",
       "      <td>41</td>\n",
       "      <td>1</td>\n",
       "      <td>7</td>\n",
       "    </tr>\n",
       "  </tbody>\n",
       "</table>\n",
       "</div>"
      ],
      "text/plain": [
       "income                    High Income  Low-Middle Income  Upper-Middle Income\n",
       "democracy                                                                    \n",
       "Close to dictatorship               1                  0                    1\n",
       "Dictatorship                        4                  0                    5\n",
       "In the path to democracy            2                  2                    3\n",
       "democratic                         41                  1                    7"
      ]
     },
     "execution_count": 83,
     "metadata": {},
     "output_type": "execute_result"
    }
   ],
   "source": [
    "# plot a table to show the dmocracy rlation with invome in 2009\n",
    "pd.crosstab(df_09['democracy'],df_09['income'])"
   ]
  },
  {
   "cell_type": "code",
   "execution_count": 84,
   "metadata": {},
   "outputs": [
    {
     "data": {
      "text/html": [
       "<div>\n",
       "<style scoped>\n",
       "    .dataframe tbody tr th:only-of-type {\n",
       "        vertical-align: middle;\n",
       "    }\n",
       "\n",
       "    .dataframe tbody tr th {\n",
       "        vertical-align: top;\n",
       "    }\n",
       "\n",
       "    .dataframe thead th {\n",
       "        text-align: right;\n",
       "    }\n",
       "</style>\n",
       "<table border=\"1\" class=\"dataframe\">\n",
       "  <thead>\n",
       "    <tr style=\"text-align: right;\">\n",
       "      <th>income</th>\n",
       "      <th>High Income</th>\n",
       "      <th>Low Income</th>\n",
       "      <th>Low-Middle Income</th>\n",
       "      <th>Upper-Middle Income</th>\n",
       "    </tr>\n",
       "    <tr>\n",
       "      <th>democracy</th>\n",
       "      <th></th>\n",
       "      <th></th>\n",
       "      <th></th>\n",
       "      <th></th>\n",
       "    </tr>\n",
       "  </thead>\n",
       "  <tbody>\n",
       "    <tr>\n",
       "      <th>Close to dictatorship</th>\n",
       "      <td>8</td>\n",
       "      <td>0</td>\n",
       "      <td>1</td>\n",
       "      <td>4</td>\n",
       "    </tr>\n",
       "    <tr>\n",
       "      <th>Dictatorship</th>\n",
       "      <td>5</td>\n",
       "      <td>3</td>\n",
       "      <td>2</td>\n",
       "      <td>4</td>\n",
       "    </tr>\n",
       "    <tr>\n",
       "      <th>In the path to democracy</th>\n",
       "      <td>1</td>\n",
       "      <td>0</td>\n",
       "      <td>1</td>\n",
       "      <td>4</td>\n",
       "    </tr>\n",
       "    <tr>\n",
       "      <th>democratic</th>\n",
       "      <td>24</td>\n",
       "      <td>0</td>\n",
       "      <td>3</td>\n",
       "      <td>7</td>\n",
       "    </tr>\n",
       "  </tbody>\n",
       "</table>\n",
       "</div>"
      ],
      "text/plain": [
       "income                    High Income  Low Income  Low-Middle Income  \\\n",
       "democracy                                                              \n",
       "Close to dictatorship               8           0                  1   \n",
       "Dictatorship                        5           3                  2   \n",
       "In the path to democracy            1           0                  1   \n",
       "democratic                         24           0                  3   \n",
       "\n",
       "income                    Upper-Middle Income  \n",
       "democracy                                      \n",
       "Close to dictatorship                       4  \n",
       "Dictatorship                                4  \n",
       "In the path to democracy                    4  \n",
       "democratic                                  7  "
      ]
     },
     "execution_count": 84,
     "metadata": {},
     "output_type": "execute_result"
    }
   ],
   "source": [
    "# plot a table to show the dmocracy rlation with invome in 1989\n",
    "pd.crosstab(df_89['democracy'],df_89['income'])"
   ]
  },
  {
   "cell_type": "markdown",
   "metadata": {},
   "source": [
    "> ***Conclusion*** : Countries with high income tends to be more democratic after the end of the 80s decade. This merge toward dimocracy is due to the globalization in part and to many other factors that could be investigated. In the other, two parts, we will try to investigate if the countries with higher development indexes (`democracy`,`income`) are more aware about the climate change. Otherwise, we will try to link the emission to the different sources of energy consumption."
   ]
  },
  {
   "cell_type": "markdown",
   "metadata": {},
   "source": [
    "### Research Question 2  gas emission and Countries development indexes"
   ]
  },
  {
   "cell_type": "markdown",
   "metadata": {},
   "source": [
    "We try in this second part to see the relation sheep between pollution and dvelopemnt indexes which are income and democracy. "
   ]
  },
  {
   "cell_type": "code",
   "execution_count": 85,
   "metadata": {},
   "outputs": [
    {
     "data": {
      "text/html": [
       "<div>\n",
       "<style scoped>\n",
       "    .dataframe tbody tr th:only-of-type {\n",
       "        vertical-align: middle;\n",
       "    }\n",
       "\n",
       "    .dataframe tbody tr th {\n",
       "        vertical-align: top;\n",
       "    }\n",
       "\n",
       "    .dataframe thead th {\n",
       "        text-align: right;\n",
       "    }\n",
       "</style>\n",
       "<table border=\"1\" class=\"dataframe\">\n",
       "  <thead>\n",
       "    <tr style=\"text-align: right;\">\n",
       "      <th></th>\n",
       "      <th></th>\n",
       "      <th>oil</th>\n",
       "      <th>emission</th>\n",
       "      <th>electricity</th>\n",
       "      <th>energy</th>\n",
       "      <th>hydro</th>\n",
       "      <th>nuclear</th>\n",
       "    </tr>\n",
       "    <tr>\n",
       "      <th>income</th>\n",
       "      <th>democracy</th>\n",
       "      <th></th>\n",
       "      <th></th>\n",
       "      <th></th>\n",
       "      <th></th>\n",
       "      <th></th>\n",
       "      <th></th>\n",
       "    </tr>\n",
       "  </thead>\n",
       "  <tbody>\n",
       "    <tr>\n",
       "      <th rowspan=\"2\" valign=\"top\">High Income</th>\n",
       "      <th>In the path to democracy</th>\n",
       "      <td>1.527300e+08</td>\n",
       "      <td>19.400</td>\n",
       "      <td>9.272000e+11</td>\n",
       "      <td>1038400</td>\n",
       "      <td>15014000</td>\n",
       "      <td>10500000</td>\n",
       "    </tr>\n",
       "    <tr>\n",
       "      <th>democratic</th>\n",
       "      <td>2.257060e+09</td>\n",
       "      <td>318.380</td>\n",
       "      <td>9.683970e+12</td>\n",
       "      <td>4082511</td>\n",
       "      <td>119852894</td>\n",
       "      <td>191763000</td>\n",
       "    </tr>\n",
       "    <tr>\n",
       "      <th rowspan=\"2\" valign=\"top\">Low-Middle Income</th>\n",
       "      <th>Dictatorship</th>\n",
       "      <td>2.757200e+08</td>\n",
       "      <td>25.129</td>\n",
       "      <td>1.438960e+12</td>\n",
       "      <td>1382615</td>\n",
       "      <td>21082330</td>\n",
       "      <td>1314300</td>\n",
       "    </tr>\n",
       "    <tr>\n",
       "      <th>democratic</th>\n",
       "      <td>1.223700e+08</td>\n",
       "      <td>2.054</td>\n",
       "      <td>6.028000e+11</td>\n",
       "      <td>392100</td>\n",
       "      <td>7695600</td>\n",
       "      <td>1140000</td>\n",
       "    </tr>\n",
       "    <tr>\n",
       "      <th rowspan=\"4\" valign=\"top\">Upper-Middle Income</th>\n",
       "      <th>Close to dictatorship</th>\n",
       "      <td>1.512000e+07</td>\n",
       "      <td>10.200</td>\n",
       "      <td>7.210000e+10</td>\n",
       "      <td>202600</td>\n",
       "      <td>544400</td>\n",
       "      <td>0</td>\n",
       "    </tr>\n",
       "    <tr>\n",
       "      <th>Dictatorship</th>\n",
       "      <td>3.578000e+07</td>\n",
       "      <td>7.600</td>\n",
       "      <td>9.220000e+10</td>\n",
       "      <td>62810</td>\n",
       "      <td>1261630</td>\n",
       "      <td>0</td>\n",
       "    </tr>\n",
       "    <tr>\n",
       "      <th>In the path to democracy</th>\n",
       "      <td>7.605000e+07</td>\n",
       "      <td>7.437</td>\n",
       "      <td>1.352800e+11</td>\n",
       "      <td>271080</td>\n",
       "      <td>2034000</td>\n",
       "      <td>0</td>\n",
       "    </tr>\n",
       "    <tr>\n",
       "      <th>democratic</th>\n",
       "      <td>2.412640e+08</td>\n",
       "      <td>42.130</td>\n",
       "      <td>1.042170e+12</td>\n",
       "      <td>786130</td>\n",
       "      <td>33284400</td>\n",
       "      <td>9449000</td>\n",
       "    </tr>\n",
       "  </tbody>\n",
       "</table>\n",
       "</div>"
      ],
      "text/plain": [
       "                                                       oil  emission  \\\n",
       "income              democracy                                          \n",
       "High Income         In the path to democracy  1.527300e+08    19.400   \n",
       "                    democratic                2.257060e+09   318.380   \n",
       "Low-Middle Income   Dictatorship              2.757200e+08    25.129   \n",
       "                    democratic                1.223700e+08     2.054   \n",
       "Upper-Middle Income Close to dictatorship     1.512000e+07    10.200   \n",
       "                    Dictatorship              3.578000e+07     7.600   \n",
       "                    In the path to democracy  7.605000e+07     7.437   \n",
       "                    democratic                2.412640e+08    42.130   \n",
       "\n",
       "                                               electricity   energy  \\\n",
       "income              democracy                                         \n",
       "High Income         In the path to democracy  9.272000e+11  1038400   \n",
       "                    democratic                9.683970e+12  4082511   \n",
       "Low-Middle Income   Dictatorship              1.438960e+12  1382615   \n",
       "                    democratic                6.028000e+11   392100   \n",
       "Upper-Middle Income Close to dictatorship     7.210000e+10   202600   \n",
       "                    Dictatorship              9.220000e+10    62810   \n",
       "                    In the path to democracy  1.352800e+11   271080   \n",
       "                    democratic                1.042170e+12   786130   \n",
       "\n",
       "                                                  hydro    nuclear  \n",
       "income              democracy                                       \n",
       "High Income         In the path to democracy   15014000   10500000  \n",
       "                    democratic                119852894  191763000  \n",
       "Low-Middle Income   Dictatorship               21082330    1314300  \n",
       "                    democratic                  7695600    1140000  \n",
       "Upper-Middle Income Close to dictatorship        544400          0  \n",
       "                    Dictatorship                1261630          0  \n",
       "                    In the path to democracy    2034000          0  \n",
       "                    democratic                 33284400    9449000  "
      ]
     },
     "execution_count": 85,
     "metadata": {},
     "output_type": "execute_result"
    }
   ],
   "source": [
    "# the energy consumption and air pollution by the both development indexes in 1999\n",
    "df_99.groupby([\"income\", \"democracy\"]).sum()"
   ]
  },
  {
   "cell_type": "code",
   "execution_count": 86,
   "metadata": {},
   "outputs": [
    {
     "data": {
      "text/html": [
       "<div>\n",
       "<style scoped>\n",
       "    .dataframe tbody tr th:only-of-type {\n",
       "        vertical-align: middle;\n",
       "    }\n",
       "\n",
       "    .dataframe tbody tr th {\n",
       "        vertical-align: top;\n",
       "    }\n",
       "\n",
       "    .dataframe thead th {\n",
       "        text-align: right;\n",
       "    }\n",
       "</style>\n",
       "<table border=\"1\" class=\"dataframe\">\n",
       "  <thead>\n",
       "    <tr style=\"text-align: right;\">\n",
       "      <th></th>\n",
       "      <th></th>\n",
       "      <th>oil</th>\n",
       "      <th>emission</th>\n",
       "      <th>electricity</th>\n",
       "      <th>energy</th>\n",
       "      <th>hydro</th>\n",
       "      <th>nuclear</th>\n",
       "    </tr>\n",
       "    <tr>\n",
       "      <th>income</th>\n",
       "      <th>democracy</th>\n",
       "      <th></th>\n",
       "      <th></th>\n",
       "      <th></th>\n",
       "      <th></th>\n",
       "      <th></th>\n",
       "      <th></th>\n",
       "    </tr>\n",
       "  </thead>\n",
       "  <tbody>\n",
       "    <tr>\n",
       "      <th rowspan=\"4\" valign=\"top\">High Income</th>\n",
       "      <th>Close to dictatorship</th>\n",
       "      <td>3.420000e+07</td>\n",
       "      <td>6.430</td>\n",
       "      <td>1.250000e+11</td>\n",
       "      <td>204000</td>\n",
       "      <td>7390000</td>\n",
       "      <td>0</td>\n",
       "    </tr>\n",
       "    <tr>\n",
       "      <th>Dictatorship</th>\n",
       "      <td>1.128800e+08</td>\n",
       "      <td>30.650</td>\n",
       "      <td>3.500000e+11</td>\n",
       "      <td>564649</td>\n",
       "      <td>1416780</td>\n",
       "      <td>0</td>\n",
       "    </tr>\n",
       "    <tr>\n",
       "      <th>In the path to democracy</th>\n",
       "      <td>1.735000e+08</td>\n",
       "      <td>14.340</td>\n",
       "      <td>1.139000e+12</td>\n",
       "      <td>1241700</td>\n",
       "      <td>15615000</td>\n",
       "      <td>14100000</td>\n",
       "    </tr>\n",
       "    <tr>\n",
       "      <th>democratic</th>\n",
       "      <td>2.247760e+09</td>\n",
       "      <td>327.170</td>\n",
       "      <td>1.162685e+13</td>\n",
       "      <td>4417140</td>\n",
       "      <td>152721600</td>\n",
       "      <td>198985999</td>\n",
       "    </tr>\n",
       "    <tr>\n",
       "      <th rowspan=\"2\" valign=\"top\">Low-Middle Income</th>\n",
       "      <th>In the path to democracy</th>\n",
       "      <td>2.422000e+07</td>\n",
       "      <td>1.222</td>\n",
       "      <td>1.360000e+11</td>\n",
       "      <td>89700</td>\n",
       "      <td>2553000</td>\n",
       "      <td>249000</td>\n",
       "    </tr>\n",
       "    <tr>\n",
       "      <th>democratic</th>\n",
       "      <td>1.540000e+08</td>\n",
       "      <td>1.410</td>\n",
       "      <td>8.800000e+11</td>\n",
       "      <td>503000</td>\n",
       "      <td>8960000</td>\n",
       "      <td>1600000</td>\n",
       "    </tr>\n",
       "    <tr>\n",
       "      <th rowspan=\"4\" valign=\"top\">Upper-Middle Income</th>\n",
       "      <th>Close to dictatorship</th>\n",
       "      <td>3.440000e+07</td>\n",
       "      <td>2.500</td>\n",
       "      <td>1.340000e+11</td>\n",
       "      <td>88200</td>\n",
       "      <td>1110000</td>\n",
       "      <td>0</td>\n",
       "    </tr>\n",
       "    <tr>\n",
       "      <th>Dictatorship</th>\n",
       "      <td>4.255000e+08</td>\n",
       "      <td>22.560</td>\n",
       "      <td>3.878400e+12</td>\n",
       "      <td>2258982</td>\n",
       "      <td>56503258</td>\n",
       "      <td>6030000</td>\n",
       "    </tr>\n",
       "    <tr>\n",
       "      <th>In the path to democracy</th>\n",
       "      <td>4.940000e+07</td>\n",
       "      <td>9.370</td>\n",
       "      <td>1.027000e+11</td>\n",
       "      <td>299300</td>\n",
       "      <td>1097300</td>\n",
       "      <td>0</td>\n",
       "    </tr>\n",
       "    <tr>\n",
       "      <th>democratic</th>\n",
       "      <td>1.119090e+08</td>\n",
       "      <td>16.992</td>\n",
       "      <td>5.058200e+11</td>\n",
       "      <td>573400</td>\n",
       "      <td>8516000</td>\n",
       "      <td>7130000</td>\n",
       "    </tr>\n",
       "  </tbody>\n",
       "</table>\n",
       "</div>"
      ],
      "text/plain": [
       "                                                       oil  emission  \\\n",
       "income              democracy                                          \n",
       "High Income         Close to dictatorship     3.420000e+07     6.430   \n",
       "                    Dictatorship              1.128800e+08    30.650   \n",
       "                    In the path to democracy  1.735000e+08    14.340   \n",
       "                    democratic                2.247760e+09   327.170   \n",
       "Low-Middle Income   In the path to democracy  2.422000e+07     1.222   \n",
       "                    democratic                1.540000e+08     1.410   \n",
       "Upper-Middle Income Close to dictatorship     3.440000e+07     2.500   \n",
       "                    Dictatorship              4.255000e+08    22.560   \n",
       "                    In the path to democracy  4.940000e+07     9.370   \n",
       "                    democratic                1.119090e+08    16.992   \n",
       "\n",
       "                                               electricity   energy  \\\n",
       "income              democracy                                         \n",
       "High Income         Close to dictatorship     1.250000e+11   204000   \n",
       "                    Dictatorship              3.500000e+11   564649   \n",
       "                    In the path to democracy  1.139000e+12  1241700   \n",
       "                    democratic                1.162685e+13  4417140   \n",
       "Low-Middle Income   In the path to democracy  1.360000e+11    89700   \n",
       "                    democratic                8.800000e+11   503000   \n",
       "Upper-Middle Income Close to dictatorship     1.340000e+11    88200   \n",
       "                    Dictatorship              3.878400e+12  2258982   \n",
       "                    In the path to democracy  1.027000e+11   299300   \n",
       "                    democratic                5.058200e+11   573400   \n",
       "\n",
       "                                                  hydro    nuclear  \n",
       "income              democracy                                       \n",
       "High Income         Close to dictatorship       7390000          0  \n",
       "                    Dictatorship                1416780          0  \n",
       "                    In the path to democracy   15615000   14100000  \n",
       "                    democratic                152721600  198985999  \n",
       "Low-Middle Income   In the path to democracy    2553000     249000  \n",
       "                    democratic                  8960000    1600000  \n",
       "Upper-Middle Income Close to dictatorship       1110000          0  \n",
       "                    Dictatorship               56503258    6030000  \n",
       "                    In the path to democracy    1097300          0  \n",
       "                    democratic                  8516000    7130000  "
      ]
     },
     "execution_count": 86,
     "metadata": {},
     "output_type": "execute_result"
    }
   ],
   "source": [
    "# the energy consumption and air pollution by the both development indexes in 2009\n",
    "df_09.groupby([\"income\", \"democracy\"]).sum()"
   ]
  },
  {
   "cell_type": "code",
   "execution_count": 87,
   "metadata": {},
   "outputs": [
    {
     "data": {
      "text/html": [
       "<div>\n",
       "<style scoped>\n",
       "    .dataframe tbody tr th:only-of-type {\n",
       "        vertical-align: middle;\n",
       "    }\n",
       "\n",
       "    .dataframe tbody tr th {\n",
       "        vertical-align: top;\n",
       "    }\n",
       "\n",
       "    .dataframe thead th {\n",
       "        text-align: right;\n",
       "    }\n",
       "</style>\n",
       "<table border=\"1\" class=\"dataframe\">\n",
       "  <thead>\n",
       "    <tr style=\"text-align: right;\">\n",
       "      <th></th>\n",
       "      <th></th>\n",
       "      <th>oil</th>\n",
       "      <th>emission</th>\n",
       "      <th>electricity</th>\n",
       "      <th>energy</th>\n",
       "      <th>hydro</th>\n",
       "      <th>nuclear</th>\n",
       "    </tr>\n",
       "    <tr>\n",
       "      <th>income</th>\n",
       "      <th>democracy</th>\n",
       "      <th></th>\n",
       "      <th></th>\n",
       "      <th></th>\n",
       "      <th></th>\n",
       "      <th></th>\n",
       "      <th></th>\n",
       "    </tr>\n",
       "  </thead>\n",
       "  <tbody>\n",
       "    <tr>\n",
       "      <th rowspan=\"4\" valign=\"top\">High Income</th>\n",
       "      <th>Close to dictatorship</th>\n",
       "      <td>4.335400e+08</td>\n",
       "      <td>92.500</td>\n",
       "      <td>1.713200e+12</td>\n",
       "      <td>8.896899e+05</td>\n",
       "      <td>1.954375e+07</td>\n",
       "      <td>1.620895e+07</td>\n",
       "    </tr>\n",
       "    <tr>\n",
       "      <th>Dictatorship</th>\n",
       "      <td>1.144772e+08</td>\n",
       "      <td>49.420</td>\n",
       "      <td>4.774297e+11</td>\n",
       "      <td>2.742166e+05</td>\n",
       "      <td>5.965582e+06</td>\n",
       "      <td>8.752318e+06</td>\n",
       "    </tr>\n",
       "    <tr>\n",
       "      <th>In the path to democracy</th>\n",
       "      <td>8.930000e+06</td>\n",
       "      <td>7.300</td>\n",
       "      <td>2.960000e+10</td>\n",
       "      <td>1.610000e+04</td>\n",
       "      <td>1.360000e+04</td>\n",
       "      <td>1.190000e+06</td>\n",
       "    </tr>\n",
       "    <tr>\n",
       "      <th>democratic</th>\n",
       "      <td>1.785000e+09</td>\n",
       "      <td>217.800</td>\n",
       "      <td>7.066200e+12</td>\n",
       "      <td>3.148111e+06</td>\n",
       "      <td>9.664212e+07</td>\n",
       "      <td>1.354290e+08</td>\n",
       "    </tr>\n",
       "    <tr>\n",
       "      <th>Low Income</th>\n",
       "      <th>Dictatorship</th>\n",
       "      <td>1.183700e+08</td>\n",
       "      <td>2.454</td>\n",
       "      <td>5.999000e+11</td>\n",
       "      <td>8.924000e+05</td>\n",
       "      <td>1.060910e+07</td>\n",
       "      <td>0.000000e+00</td>\n",
       "    </tr>\n",
       "    <tr>\n",
       "      <th rowspan=\"4\" valign=\"top\">Low-Middle Income</th>\n",
       "      <th>Close to dictatorship</th>\n",
       "      <td>1.330000e+07</td>\n",
       "      <td>5.900</td>\n",
       "      <td>5.590000e+10</td>\n",
       "      <td>1.081483e+05</td>\n",
       "      <td>2.712291e+06</td>\n",
       "      <td>2.696159e+06</td>\n",
       "    </tr>\n",
       "    <tr>\n",
       "      <th>Dictatorship</th>\n",
       "      <td>3.286000e+07</td>\n",
       "      <td>1.679</td>\n",
       "      <td>3.752000e+10</td>\n",
       "      <td>1.497580e+05</td>\n",
       "      <td>6.745000e+05</td>\n",
       "      <td>0.000000e+00</td>\n",
       "    </tr>\n",
       "    <tr>\n",
       "      <th>In the path to democracy</th>\n",
       "      <td>1.200000e+06</td>\n",
       "      <td>0.202</td>\n",
       "      <td>2.860000e+09</td>\n",
       "      <td>4.180000e+03</td>\n",
       "      <td>2.410000e+05</td>\n",
       "      <td>0.000000e+00</td>\n",
       "    </tr>\n",
       "    <tr>\n",
       "      <th>democratic</th>\n",
       "      <td>7.700000e+07</td>\n",
       "      <td>1.897</td>\n",
       "      <td>3.404000e+11</td>\n",
       "      <td>3.321000e+05</td>\n",
       "      <td>7.358000e+06</td>\n",
       "      <td>4.005800e+05</td>\n",
       "    </tr>\n",
       "    <tr>\n",
       "      <th rowspan=\"4\" valign=\"top\">Upper-Middle Income</th>\n",
       "      <th>Close to dictatorship</th>\n",
       "      <td>4.712000e+07</td>\n",
       "      <td>35.040</td>\n",
       "      <td>9.160000e+10</td>\n",
       "      <td>4.192449e+05</td>\n",
       "      <td>8.156273e+06</td>\n",
       "      <td>8.088477e+06</td>\n",
       "    </tr>\n",
       "    <tr>\n",
       "      <th>Dictatorship</th>\n",
       "      <td>1.296136e+08</td>\n",
       "      <td>16.220</td>\n",
       "      <td>2.878648e+11</td>\n",
       "      <td>4.697483e+05</td>\n",
       "      <td>4.441291e+06</td>\n",
       "      <td>2.696159e+06</td>\n",
       "    </tr>\n",
       "    <tr>\n",
       "      <th>In the path to democracy</th>\n",
       "      <td>6.090000e+07</td>\n",
       "      <td>24.950</td>\n",
       "      <td>3.669000e+11</td>\n",
       "      <td>3.084000e+05</td>\n",
       "      <td>1.305000e+06</td>\n",
       "      <td>9.540000e+05</td>\n",
       "    </tr>\n",
       "    <tr>\n",
       "      <th>democratic</th>\n",
       "      <td>1.467000e+08</td>\n",
       "      <td>16.720</td>\n",
       "      <td>4.522700e+11</td>\n",
       "      <td>2.338400e+05</td>\n",
       "      <td>2.406100e+07</td>\n",
       "      <td>4.227000e+06</td>\n",
       "    </tr>\n",
       "  </tbody>\n",
       "</table>\n",
       "</div>"
      ],
      "text/plain": [
       "                                                       oil  emission  \\\n",
       "income              democracy                                          \n",
       "High Income         Close to dictatorship     4.335400e+08    92.500   \n",
       "                    Dictatorship              1.144772e+08    49.420   \n",
       "                    In the path to democracy  8.930000e+06     7.300   \n",
       "                    democratic                1.785000e+09   217.800   \n",
       "Low Income          Dictatorship              1.183700e+08     2.454   \n",
       "Low-Middle Income   Close to dictatorship     1.330000e+07     5.900   \n",
       "                    Dictatorship              3.286000e+07     1.679   \n",
       "                    In the path to democracy  1.200000e+06     0.202   \n",
       "                    democratic                7.700000e+07     1.897   \n",
       "Upper-Middle Income Close to dictatorship     4.712000e+07    35.040   \n",
       "                    Dictatorship              1.296136e+08    16.220   \n",
       "                    In the path to democracy  6.090000e+07    24.950   \n",
       "                    democratic                1.467000e+08    16.720   \n",
       "\n",
       "                                               electricity        energy  \\\n",
       "income              democracy                                              \n",
       "High Income         Close to dictatorship     1.713200e+12  8.896899e+05   \n",
       "                    Dictatorship              4.774297e+11  2.742166e+05   \n",
       "                    In the path to democracy  2.960000e+10  1.610000e+04   \n",
       "                    democratic                7.066200e+12  3.148111e+06   \n",
       "Low Income          Dictatorship              5.999000e+11  8.924000e+05   \n",
       "Low-Middle Income   Close to dictatorship     5.590000e+10  1.081483e+05   \n",
       "                    Dictatorship              3.752000e+10  1.497580e+05   \n",
       "                    In the path to democracy  2.860000e+09  4.180000e+03   \n",
       "                    democratic                3.404000e+11  3.321000e+05   \n",
       "Upper-Middle Income Close to dictatorship     9.160000e+10  4.192449e+05   \n",
       "                    Dictatorship              2.878648e+11  4.697483e+05   \n",
       "                    In the path to democracy  3.669000e+11  3.084000e+05   \n",
       "                    democratic                4.522700e+11  2.338400e+05   \n",
       "\n",
       "                                                     hydro       nuclear  \n",
       "income              democracy                                             \n",
       "High Income         Close to dictatorship     1.954375e+07  1.620895e+07  \n",
       "                    Dictatorship              5.965582e+06  8.752318e+06  \n",
       "                    In the path to democracy  1.360000e+04  1.190000e+06  \n",
       "                    democratic                9.664212e+07  1.354290e+08  \n",
       "Low Income          Dictatorship              1.060910e+07  0.000000e+00  \n",
       "Low-Middle Income   Close to dictatorship     2.712291e+06  2.696159e+06  \n",
       "                    Dictatorship              6.745000e+05  0.000000e+00  \n",
       "                    In the path to democracy  2.410000e+05  0.000000e+00  \n",
       "                    democratic                7.358000e+06  4.005800e+05  \n",
       "Upper-Middle Income Close to dictatorship     8.156273e+06  8.088477e+06  \n",
       "                    Dictatorship              4.441291e+06  2.696159e+06  \n",
       "                    In the path to democracy  1.305000e+06  9.540000e+05  \n",
       "                    democratic                2.406100e+07  4.227000e+06  "
      ]
     },
     "execution_count": 87,
     "metadata": {},
     "output_type": "execute_result"
    }
   ],
   "source": [
    "# the energy consumption and air pollution by the both development indexes in 1989\n",
    "df_89.groupby([\"income\", \"democracy\"]).sum()"
   ]
  },
  {
   "cell_type": "code",
   "execution_count": 88,
   "metadata": {},
   "outputs": [
    {
     "data": {
      "text/plain": [
       "income               democracy               \n",
       "High Income          In the path to democracy     19.400\n",
       "                     democratic                  318.380\n",
       "Low-Middle Income    Dictatorship                 25.129\n",
       "                     democratic                    2.054\n",
       "Upper-Middle Income  Close to dictatorship        10.200\n",
       "                     Dictatorship                  7.600\n",
       "                     In the path to democracy      7.437\n",
       "                     democratic                   42.130\n",
       "Name: emission, dtype: float64"
      ]
     },
     "execution_count": 88,
     "metadata": {},
     "output_type": "execute_result"
    }
   ],
   "source": [
    "# total emission by each category in 1999\n",
    "df_99.groupby([\"income\", \"democracy\"])[\"emission\"].sum()"
   ]
  },
  {
   "cell_type": "code",
   "execution_count": 89,
   "metadata": {},
   "outputs": [
    {
     "data": {
      "text/plain": [
       "income               democracy               \n",
       "High Income          Close to dictatorship         6.430\n",
       "                     Dictatorship                 30.650\n",
       "                     In the path to democracy     14.340\n",
       "                     democratic                  327.170\n",
       "Low-Middle Income    In the path to democracy      1.222\n",
       "                     democratic                    1.410\n",
       "Upper-Middle Income  Close to dictatorship         2.500\n",
       "                     Dictatorship                 22.560\n",
       "                     In the path to democracy      9.370\n",
       "                     democratic                   16.992\n",
       "Name: emission, dtype: float64"
      ]
     },
     "execution_count": 89,
     "metadata": {},
     "output_type": "execute_result"
    }
   ],
   "source": [
    "# total emission by each category in 2009\n",
    "df_09.groupby([\"income\", \"democracy\"])[\"emission\"].sum()"
   ]
  },
  {
   "cell_type": "code",
   "execution_count": 90,
   "metadata": {},
   "outputs": [
    {
     "data": {
      "text/plain": [
       "income               democracy               \n",
       "High Income          Close to dictatorship        92.500\n",
       "                     Dictatorship                 49.420\n",
       "                     In the path to democracy      7.300\n",
       "                     democratic                  217.800\n",
       "Low Income           Dictatorship                  2.454\n",
       "Low-Middle Income    Close to dictatorship         5.900\n",
       "                     Dictatorship                  1.679\n",
       "                     In the path to democracy      0.202\n",
       "                     democratic                    1.897\n",
       "Upper-Middle Income  Close to dictatorship        35.040\n",
       "                     Dictatorship                 16.220\n",
       "                     In the path to democracy     24.950\n",
       "                     democratic                   16.720\n",
       "Name: emission, dtype: float64"
      ]
     },
     "execution_count": 90,
     "metadata": {},
     "output_type": "execute_result"
    }
   ],
   "source": [
    "# total emission by each category in 1989\n",
    "df_89.groupby([\"income\", \"democracy\"])[\"emission\"].sum()"
   ]
  },
  {
   "cell_type": "markdown",
   "metadata": {},
   "source": [
    "> ***Conclusion*** : Countries with more favorable dvelopment indexes tends to contribute more in the emission of the CO2 gas. In the 1989, countries whose are responsible for the emission where divided into different categories. While in the 2009, emission of polluted gas is more concentrated in the more advanced countries in term of income and democracy. "
   ]
  },
  {
   "cell_type": "markdown",
   "metadata": {},
   "source": [
    "The countries with high income, and which are democratic, persist in all the periods. They hold the highest emission rate over the two deacdes. "
   ]
  },
  {
   "cell_type": "markdown",
   "metadata": {},
   "source": [
    "### Question 3: energy consumption and energy"
   ]
  },
  {
   "cell_type": "markdown",
   "metadata": {},
   "source": [
    "> The nergy consumed in our daily routine comes from different sources. And, those consumption leads to many kind of emissions that could hurt the climate of the earth. Early, we have discovered that more democratic countries and high income countries are more responsible for the emission of CO2. In, this part we will compare the energy consumption in both countries with high emission and low emission. "
   ]
  },
  {
   "cell_type": "code",
   "execution_count": 91,
   "metadata": {},
   "outputs": [],
   "source": [
    "# choose the countries with emission greater than the mean\n",
    "top_emission_09 = df_09.query('emission > emission.mean()')\n",
    "top_emission_99 = df_99.query('emission > emission.mean()')\n",
    "top_emission_89 = df_89.query('emission > emission.mean()')"
   ]
  },
  {
   "cell_type": "code",
   "execution_count": 92,
   "metadata": {},
   "outputs": [],
   "source": [
    "# choose the countries with emission less than the mean\n",
    "flop_emission_09 = df_09.query('emission < emission.mean()')\n",
    "flop_emission_99 = df_99.query('emission < emission.mean()')\n",
    "flop_emission_89 = df_89.query('emission < emission.mean()')"
   ]
  },
  {
   "cell_type": "code",
   "execution_count": 93,
   "metadata": {},
   "outputs": [],
   "source": [
    "def conv_by_sum(df, df2):\n",
    "    list_for_mean = list(flop_emission_09.mean().keys())\n",
    "    for nou in list_for_mean :\n",
    "        df[nou] = df[nou].div(df2[nou].sum(), axis = 0)\n",
    "    return df"
   ]
  },
  {
   "cell_type": "code",
   "execution_count": 94,
   "metadata": {},
   "outputs": [
    {
     "name": "stderr",
     "output_type": "stream",
     "text": [
      "C:\\Users\\Dell\\AppData\\Local\\Temp\\ipykernel_8984\\4128474324.py:2: FutureWarning: Dropping of nuisance columns in DataFrame reductions (with 'numeric_only=None') is deprecated; in a future version this will raise TypeError.  Select only valid columns before calling the reduction.\n",
      "  list_for_mean = list(flop_emission_09.mean().keys())\n",
      "C:\\Users\\Dell\\AppData\\Local\\Temp\\ipykernel_8984\\4128474324.py:4: SettingWithCopyWarning: \n",
      "A value is trying to be set on a copy of a slice from a DataFrame.\n",
      "Try using .loc[row_indexer,col_indexer] = value instead\n",
      "\n",
      "See the caveats in the documentation: https://pandas.pydata.org/pandas-docs/stable/user_guide/indexing.html#returning-a-view-versus-a-copy\n",
      "  df[nou] = df[nou].div(df2[nou].sum(), axis = 0)\n"
     ]
    }
   ],
   "source": [
    "top_emission_09 = conv_by_sum(top_emission_09, df_09)\n",
    "top_emission_89 = conv_by_sum(top_emission_89, df_89)\n",
    "top_emission_99 = conv_by_sum(top_emission_99, df_99)\n",
    "flop_emission_09 = conv_by_sum(flop_emission_09, df_09)\n",
    "flop_emission_89 = conv_by_sum(flop_emission_89, df_89)\n",
    "flop_emission_99 = conv_by_sum(flop_emission_99, df_99)"
   ]
  },
  {
   "cell_type": "code",
   "execution_count": 95,
   "metadata": {},
   "outputs": [
    {
     "name": "stderr",
     "output_type": "stream",
     "text": [
      "C:\\Users\\Dell\\AppData\\Local\\Temp\\ipykernel_8984\\3969230218.py:11: FutureWarning: Dropping of nuisance columns in DataFrame reductions (with 'numeric_only=None') is deprecated; in a future version this will raise TypeError.  Select only valid columns before calling the reduction.\n",
      "  list_col = list(ticker.mean().keys())\n",
      "C:\\Users\\Dell\\AppData\\Local\\Temp\\ipykernel_8984\\3969230218.py:11: FutureWarning: Dropping of nuisance columns in DataFrame reductions (with 'numeric_only=None') is deprecated; in a future version this will raise TypeError.  Select only valid columns before calling the reduction.\n",
      "  list_col = list(ticker.mean().keys())\n",
      "C:\\Users\\Dell\\AppData\\Local\\Temp\\ipykernel_8984\\3969230218.py:11: FutureWarning: Dropping of nuisance columns in DataFrame reductions (with 'numeric_only=None') is deprecated; in a future version this will raise TypeError.  Select only valid columns before calling the reduction.\n",
      "  list_col = list(ticker.mean().keys())\n",
      "C:\\Users\\Dell\\AppData\\Local\\Temp\\ipykernel_8984\\3969230218.py:11: FutureWarning: Dropping of nuisance columns in DataFrame reductions (with 'numeric_only=None') is deprecated; in a future version this will raise TypeError.  Select only valid columns before calling the reduction.\n",
      "  list_col = list(ticker.mean().keys())\n",
      "C:\\Users\\Dell\\AppData\\Local\\Temp\\ipykernel_8984\\3969230218.py:11: FutureWarning: Dropping of nuisance columns in DataFrame reductions (with 'numeric_only=None') is deprecated; in a future version this will raise TypeError.  Select only valid columns before calling the reduction.\n",
      "  list_col = list(ticker.mean().keys())\n",
      "C:\\Users\\Dell\\AppData\\Local\\Temp\\ipykernel_8984\\3969230218.py:11: FutureWarning: Dropping of nuisance columns in DataFrame reductions (with 'numeric_only=None') is deprecated; in a future version this will raise TypeError.  Select only valid columns before calling the reduction.\n",
      "  list_col = list(ticker.mean().keys())\n"
     ]
    },
    {
     "data": {
      "image/png": "[encoded data removed]",
      "text/plain": [
       "<Figure size 1080x864 with 6 Axes>"
      ]
     },
     "metadata": {
      "needs_background": "light"
     },
     "output_type": "display_data"
    }
   ],
   "source": [
    "# define subplot grid\n",
    "fig, axs = plt.subplots(nrows=3, ncols=2, figsize=(15, 12))\n",
    "plt.subplots_adjust(hspace=0.5)\n",
    "fig.suptitle(\"Daily closing prices\", fontsize=18, y=0.95)\n",
    "tickers = [top_emission_09,flop_emission_09, top_emission_99, flop_emission_99,top_emission_89, flop_emission_09]\n",
    "year = [\" top 2009\", \" flop 2009\", \" top 1999\",\"flop 1999\", \"top 1989\", \"flop 1989\"]\n",
    " \n",
    "# loop through tickers and axes\n",
    "for ticker, ax, yr in zip(tickers, axs.ravel(), year):\n",
    "    # filter df for ticker and plot on specified axes\n",
    "    list_col = list(ticker.mean().keys())\n",
    "    list_data = list(ticker[list_col].sum())\n",
    "\n",
    "    # chart formatting\n",
    "    ax.axis(\"equal\")\n",
    "    ax.set_title('energy consumption for emission ' + yr)\n",
    "    ax.bar(list_col, list_data, width=0.4)\n",
    "\n",
    "plt.show()\n"
   ]
  },
  {
   "cell_type": "markdown",
   "metadata": {},
   "source": [
    "> The countries with the less CO2 emission have more `hydro` consumption. In the other hand, the other energy consumtion like oil, electricity, and nuclear is related to the total emission. The sources of energy play an important role in limiting the emission of toxic gazes."
   ]
  },
  {
   "cell_type": "markdown",
   "metadata": {},
   "source": [
    "<a id='conclusion'></a>\n",
    "## Conclusion"
   ]
  },
  {
   "cell_type": "markdown",
   "metadata": {},
   "source": [
    "Along our explanatory analysis, we have concluded that democarcy and Income as development indexes are important for determining the emsission and energy. Along the three different periods, we have seen a large part of the emission is related developement indexes as seen in the figure below. Instead, Our analysis still needs more factors like the demographic factors. We can extend our data to other dates and include more countries. "
   ]
  },
  {
   "cell_type": "code",
   "execution_count": 96,
   "metadata": {},
   "outputs": [],
   "source": [
    "emi_high_in = top_emission_09.query('income == \"High Income\" and democracy == \"democratic\"')"
   ]
  },
  {
   "cell_type": "code",
   "execution_count": 97,
   "metadata": {},
   "outputs": [
    {
     "name": "stderr",
     "output_type": "stream",
     "text": [
      "C:\\Users\\Dell\\AppData\\Local\\Temp\\ipykernel_8984\\2701435870.py:1: FutureWarning: Dropping of nuisance columns in DataFrame reductions (with 'numeric_only=None') is deprecated; in a future version this will raise TypeError.  Select only valid columns before calling the reduction.\n",
      "  names = list(emi_high_in.mean().keys())\n"
     ]
    },
    {
     "data": {
      "text/plain": [
       "<AxesSubplot:title={'center':'energy consumption and CO2 emission for high income countries'}>"
      ]
     },
     "execution_count": 97,
     "metadata": {},
     "output_type": "execute_result"
    },
    {
     "data": {
      "image/png": "[encoded data removed]",
      "text/plain": [
       "<Figure size 432x288 with 1 Axes>"
      ]
     },
     "metadata": {
      "needs_background": "light"
     },
     "output_type": "display_data"
    }
   ],
   "source": [
    "names = list(emi_high_in.mean().keys())\n",
    "emi_high_in[names].sum().plot.bar(title = \"Energy consumption and CO2 emission for high income countries\")"
   ]
  },
  {
   "cell_type": "markdown",
   "metadata": {},
   "source": [
    "Energy consumption in the high income and democratic countries is far away from the other countries which represents more than 50% of the gloab CO2 emission. The use of electricity, niclear power, and oil are favorable for emissions. The total energy consumed is around 37%."
   ]
  }
 ],
 "metadata": {
  "kernelspec": {
   "display_name": "Python 3 (ipykernel)",
   "language": "python",
   "name": "python3"
  },
  "language_info": {
   "codemirror_mode": {
    "name": "ipython",
    "version": 3
   },
   "file_extension": ".py",
   "mimetype": "text/x-python",
   "name": "python",
   "nbconvert_exporter": "python",
   "pygments_lexer": "ipython3",
   "version": "3.9.12"
  },
  "vscode": {
   "interpreter": {
    "hash": "76d7c06053c3456e5600312cec90888656fc0ed30c03d8425b9dac6e4fc8e014"
   }
  }
 },
 "nbformat": 4,
 "nbformat_minor": 2
}
