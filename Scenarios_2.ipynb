{
  "nbformat": 4,
  "nbformat_minor": 0,
  "metadata": {
    "colab": {
      "provenance": [],
      "authorship_tag": "ABX9TyOwkpMgW9fv4vT08t3ncNc3",
      "include_colab_link": true
    },
    "kernelspec": {
      "name": "python3",
      "display_name": "Python 3"
    },
    "language_info": {
      "name": "python"
    }
  },
  "cells": [
    {
      "cell_type": "markdown",
      "metadata": {
        "id": "view-in-github",
        "colab_type": "text"
      },
      "source": [
        "<a href=\"https://colab.research.google.com/github/Tromba22/Mini_mrojects_python/blob/main/Scenarios_2.ipynb\" target=\"_parent\"><img src=\"https://colab.research.google.com/assets/colab-badge.svg\" alt=\"Open In Colab\"/></a>"
      ]
    },
    {
      "cell_type": "markdown",
      "source": [
        "### First Method\n",
        "We use a method to take the `maximum` and compare it with previous minimum than take the best for giving the highest profit. It uses multiple scenarios, but it finds out which is the best for the profit.\n",
        "\n",
        "It does not need so much CPU and RAM, but it uses two for, so it could be optimized"
      ],
      "metadata": {
        "id": "WrnOVTdPV2CP"
      }
    },
    {
      "cell_type": "code",
      "execution_count": null,
      "metadata": {
        "id": "fa9Sz1KZVHiB"
      },
      "outputs": [],
      "source": [
        "# Let's create a function that figures out the best way to make money from buying and selling items over time.\n",
        "\n",
        "from typing import List, Tuple\n",
        "\n",
        "# This function takes a list of numbers (our data) and returns two things: the total profit we make and a list of buying and selling pairs.\n",
        "\n",
        "def max_profit_scenario(series: List[int]) -> Tuple[int, List[Tuple[int, int]]]:\n",
        "    \"\"\"\n",
        "    Finds the maximum profit achievable by buying and selling items over time.\n",
        "\n",
        "    Parameters:\n",
        "    - series: A list of integers representing the prices of items over time.\n",
        "\n",
        "    Returns:\n",
        "    - A tuple containing the total profit and a list of tuples representing buying and selling pairs.\n",
        "    \"\"\"\n",
        "    # First, let's find out how many numbers we have in our list.\n",
        "    n = len(series)\n",
        "    # We start with a profit of 0, because we haven't made any money yet.\n",
        "    profit = 0\n",
        "    # And we create an empty list to store our buying and selling pairs.\n",
        "    scenario = []\n",
        "\n",
        "    # Now, we keep doing something as long as we have more than one number in our list.\n",
        "    while n > 1:\n",
        "        # We start with the assumption that the maximum profit we can make from one pair of items is 0.\n",
        "        max_profit = 0\n",
        "        # We don't have any pair yet, so we set it to None.\n",
        "        max_pair = None\n",
        "\n",
        "        # Now, we'll compare each pair of numbers to see if buying and selling them would make us more money.\n",
        "        for i in range(n):\n",
        "            for j in range(i + 1, n):\n",
        "                # We calculate how much money we would make by selling the item at position j and buying the item at position i.\n",
        "                current_profit = series[j] - series[i]\n",
        "                # If this profit is higher than the maximum profit we've seen so far, we update our records.\n",
        "                if current_profit > max_profit:\n",
        "                    max_profit = current_profit\n",
        "                    max_pair = (series[i], series[j])\n",
        "\n",
        "        # If we didn't find any pair that would make us money, we stop looking.\n",
        "        if max_profit <= 0:\n",
        "            break\n",
        "\n",
        "        # Otherwise, we update our total profit by adding the profit we just found.\n",
        "        profit += max_profit\n",
        "        # And we add the pair of items to our scenario list.\n",
        "        scenario.append(max_pair)\n",
        "        # Now, we remove the items we just sold from our list so we don't consider them again.\n",
        "        series.remove(max_pair[0])\n",
        "        series.remove(max_pair[1])\n",
        "        # And we update the number of items left in our list.\n",
        "        n = len(series)\n",
        "\n",
        "    # Finally, when we're done, we return the total profit we made and the list of buying and selling pairs.\n",
        "    return profit, scenario\n",
        "\n",
        "series = [1, 2, 3, 0, 4, 5, 6, 1, 6]\n",
        "profit, scenario = max_profit_scenario(series)\n",
        "print(\"Profit:\", profit)\n",
        "print(\"Scenario:\", scenario)\n"
      ]
    },
    {
      "cell_type": "markdown",
      "source": [
        "### Solution 2:\n",
        "Take the `maximum` and find out the closest minimum after a previous head. It is inspired from the Elliot Waves analysis."
      ],
      "metadata": {
        "id": "aNPuu5_yd7UT"
      }
    },
    {
      "cell_type": "code",
      "source": [
        "import numpy as np\n",
        "\n",
        "def find_max_profit_positions(prices):\n",
        "    \"\"\"\n",
        "    Finds the maximum profit achievable by buying and selling items over time,\n",
        "    along with the corresponding buying and selling positions.\n",
        "\n",
        "    Parameters:\n",
        "    - prices: A list of integers representing the prices of items over time.\n",
        "\n",
        "    Returns:\n",
        "    - A tuple containing the maximum profit and a list of tuples representing the buying and selling positions.\n",
        "    \"\"\"\n",
        "    positions = []\n",
        "    max_profit = [0]\n",
        "    i = 1\n",
        "    j = 0\n",
        "\n",
        "    # Continue until the maximum profit becomes negative or the list of prices is empty\n",
        "    while max_profit[j] >= 0:\n",
        "        if prices:\n",
        "            # Find the index of the maximum price in the remaining list of prices\n",
        "            max_price_index = np.argmax(prices)\n",
        "            # If the maximum price is at the beginning of the list, consider the next maximum price\n",
        "            if max_price_index == 0:\n",
        "                prices.pop(max_price_index)\n",
        "                max_price_index = np.argmax(prices)\n",
        "            # Extract the sublist containing prices up to the maximum price\n",
        "            min_list = prices[:max_price_index + 1]\n",
        "\n",
        "        # Check if the sublist and the original list of prices are not empty\n",
        "        if min_list and prices:\n",
        "            # Find the minimum price in the sublist\n",
        "            min_price = min(min_list)\n",
        "            min_index = min_list.index(min_price)\n",
        "            # Extract the sublist of prices after the minimum price\n",
        "            min_list_test = min_list[min_index + 1:]\n",
        "\n",
        "            # Check if the sublist after the minimum price is not empty\n",
        "            if min_list_test:\n",
        "                # Find the minimum price in the remaining sublist\n",
        "                min_price_test = min(min_list_test)\n",
        "                min_index_test = min_list_test.index(min_price_test)\n",
        "\n",
        "                # Continue until the next minimum price is greater than the previous one or the end of the sublist is reached\n",
        "                while min_price_test < min_list_test[min_index_test - 1] and min_index_test != 0:\n",
        "                    min_price = min(min_list_test)\n",
        "                    # If there are multiple occurrences of the minimum price, find the next occurrence after the current index\n",
        "                    if min_list.count(min_price_test) > 1:\n",
        "                        min_index = min_list.index(min_price, min_index + 1)\n",
        "                    else:\n",
        "                        min_index = min_list.index(min_price)\n",
        "                    min_list_test = min_list[min_index + 1:]\n",
        "                    min_price_test = min(min_list_test)\n",
        "                    min_index_test = min_list_test.index(min_price_test)\n",
        "\n",
        "                # Calculate the profit from buying at the minimum price and selling at the maximum price\n",
        "                profit = max_profit[j] + (prices[max_price_index] - prices[min_index])\n",
        "                max_profit.append(profit)\n",
        "                positions.append((prices[min_index], prices[max_price_index]))\n",
        "                # Remove the elements from the list after selling them\n",
        "                prices.pop(max_price_index)\n",
        "                prices.pop(min_index)\n",
        "            else:\n",
        "                break\n",
        "        else:\n",
        "            break\n",
        "\n",
        "        # Check if the current maximum profit is greater than or equal to the previous one\n",
        "        if max_profit[j] >= max_profit[i]:\n",
        "            break\n",
        "        else:\n",
        "            i += 1\n",
        "            j += 1\n",
        "\n",
        "    return max_profit[-1], positions\n",
        "\n",
        "# Example usage\n",
        "sub_randomlist = [1, 7, 5, 1, 17, 3, 28, 22, 26, 7]\n",
        "profit, positions = find_max_profit_positions(sub_randomlist)\n",
        "print(\"Maximum Profit:\", profit)\n",
        "print(\"Buying and Selling Positions:\", positions)\n"
      ],
      "metadata": {
        "id": "OHeA9hVOWnbp",
        "colab": {
          "base_uri": "https://localhost:8080/"
        },
        "outputId": "03888d1f-0957-4b09-ca59-de7cff0b10fb"
      },
      "execution_count": null,
      "outputs": [
        {
          "output_type": "stream",
          "name": "stdout",
          "text": [
            "Maximum Profit: 83\n",
            "Buying and Selling Positions: [(3, 28), (1, 26), (5, 22), (1, 17)]\n"
          ]
        }
      ]
    },
    {
      "cell_type": "markdown",
      "source": [
        "### Turn the scenario values into indexes\n",
        "We use a function to detect the maximum then search for minimums, to find out their position in the list."
      ],
      "metadata": {
        "id": "hDDMIkWzg_IR"
      }
    },
    {
      "cell_type": "code",
      "source": [
        "def find_pairs_index(sub_randomlist, pairs):\n",
        "    \"\"\"\n",
        "    Finds the indexes of pairs in the given list.\n",
        "\n",
        "    Parameters:\n",
        "    - sub_randomlist: A list of integers representing prices or values.\n",
        "    - pairs: A list of tuples representing pairs of values.\n",
        "\n",
        "    Returns:\n",
        "    - A list of tuples containing the indexes of the pairs in the given list.\n",
        "    \"\"\"\n",
        "    indexes = []\n",
        "    # Create a list of pairs with their corresponding indexes\n",
        "    occurences = [[value, index] for index, value in enumerate(sub_randomlist)]\n",
        "    # Count the occurrences of each value in the list\n",
        "    last_index = {num: sub_randomlist.count(num) for num in sub_randomlist}\n",
        "\n",
        "    for pair in pairs:\n",
        "        buy_index = sell_index = None\n",
        "\n",
        "        # Find the index of the value to sell\n",
        "        for occurence in occurences:\n",
        "            if pair[1] == occurence[0]:\n",
        "                sell_index = occurence[1]\n",
        "                ind_occ = occurences.index(occurence)\n",
        "                occurences.pop(ind_occ)  # Remove the occurrence from the list\n",
        "                break\n",
        "\n",
        "        # Find the index of the value to buy\n",
        "        for occurence in occurences:\n",
        "            if pair[0] == occurence[0]:\n",
        "                # Check if there are multiple occurrences of the value to buy\n",
        "                if last_index[pair[0]] > 1:\n",
        "                    # Create a list of tuples with the difference between sell_index and other occurrences of the value to buy\n",
        "                    list_same = [(pair_same[0], pair_same[1], sell_index - pair_same[1]) for pair_same in occurences if\n",
        "                                 pair_same[0] == pair[0]]\n",
        "                    l = 0  # Start with the first element\n",
        "                    if len(list_same) > 1:\n",
        "                        # Loop through the list_same to find the optimal buy_index\n",
        "                        while l < len(list_same) - 1:  # Ensure l stays within bounds\n",
        "                            if list_same[l][2] > list_same[l + 1][2] and list_same[l + 1][2] > 0:\n",
        "                                buy_index = list_same[l + 1][1]  # Next element has a greater difference\n",
        "                            elif list_same[l][2] > 0:\n",
        "                                buy_index = list_same[l][1]  # Current element has a positive difference\n",
        "                            l += 1\n",
        "                        ind_occ = occurences.index([pair[0], buy_index])\n",
        "                        occurences.pop(ind_occ)\n",
        "                    else:\n",
        "                        buy_index = occurence[1]\n",
        "                        ind_occ = occurences.index(occurence)\n",
        "                        occurences.pop(ind_occ)\n",
        "                else:\n",
        "                    buy_index = occurence[1]\n",
        "                    ind_occ = occurences.index(occurence)\n",
        "                    occurences.pop(ind_occ)\n",
        "                break\n",
        "\n",
        "        indexes.append((buy_index, sell_index))\n",
        "\n",
        "    return indexes\n"
      ],
      "metadata": {
        "id": "zQRhawADhUaI"
      },
      "execution_count": null,
      "outputs": []
    }
  ]
}